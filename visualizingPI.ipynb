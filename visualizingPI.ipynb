{
  "nbformat": 4,
  "nbformat_minor": 0,
  "metadata": {
    "colab": {
      "provenance": [],
      "authorship_tag": "ABX9TyP8uBe73grwUyuj1YFdTzWL",
      "include_colab_link": true
    },
    "kernelspec": {
      "name": "python3",
      "display_name": "Python 3"
    },
    "language_info": {
      "name": "python"
    }
  },
  "cells": [
    {
      "cell_type": "markdown",
      "metadata": {
        "id": "view-in-github",
        "colab_type": "text"
      },
      "source": [
        "<a href=\"https://colab.research.google.com/github/Courtney-ForzaAnalytics/PIVisualizations/blob/main/visualizingPI.ipynb\" target=\"_parent\"><img src=\"https://colab.research.google.com/assets/colab-badge.svg\" alt=\"Open In Colab\"/></a>"
      ]
    },
    {
      "cell_type": "markdown",
      "source": [
        "In honor of PI day ( March 14 ), let's spend some time visualizing the digits of PI.\n"
      ],
      "metadata": {
        "id": "IE5Y-ohnUqWz"
      }
    },
    {
      "cell_type": "code",
      "execution_count": 2,
      "metadata": {
        "id": "ChH2IoOoJSkN"
      },
      "outputs": [],
      "source": [
        "# import some libraries for math and visualizations\n",
        "\n",
        "from google.colab import files\n",
        "from google.cloud import storage\n",
        "from google.colab import data_table\n",
        "\n",
        "import os\n",
        "import io\n",
        "\n",
        "import math\n",
        "\n",
        "import decimal\n",
        "\n",
        "from collections import defaultdict\n",
        "\n",
        "\n",
        "import pandas as pd\n",
        "import numpy as np\n",
        "\n",
        "\n",
        "import matplotlib.pyplot as plt\n",
        "import matplotlib as mpl\n",
        "import plotly as pltly\n",
        "\n",
        "import plotly.express as px\n",
        "import plotly.graph_objects as go\n",
        "\n"
      ]
    },
    {
      "cell_type": "markdown",
      "source": [
        "The first step is to get the digits of PI to a large number.\n",
        "\n",
        "After trying a few different ways of calculating PI, without much success, I found a calculation of it online and used that instead.\n",
        "\n",
        "The paper I took PI to a 10,000 digits from is \"Ramanujan, Modular Equations, and Approximations to Pi or How to compute One Billion Digits of Pi***\" by D.H. Bailey, J.M. Borwein and P.B.Borwein.  Here's a link to it: https://www.cecm.sfu.ca/organics/papers/borwein/\n",
        "\n",
        "Many thanks to them for posting their results for public consumption.\n",
        "\n",
        "Finally, I found PI to a million digits on piday.org.  You can access it here: https://www.piday.org/million/. Many thanks to that site for posting the full million!\n"
      ],
      "metadata": {
        "id": "jXuACTTOU1L2"
      }
    },
    {
      "cell_type": "code",
      "source": [
        "# basic pi from built in math lib\n",
        "pi = math.pi\n",
        "\n",
        "print( f\"{pi:.{100}f}\" )"
      ],
      "metadata": {
        "colab": {
          "base_uri": "https://localhost:8080/"
        },
        "id": "abQnDAcQMWhG",
        "outputId": "8492b58a-75f0-402d-a9ad-8e4a0840ce95"
      },
      "execution_count": 91,
      "outputs": [
        {
          "output_type": "stream",
          "name": "stdout",
          "text": [
            "3.1415926535897931159979634685441851615905761718750000000000000000000000000000000000000000000000000000\n"
          ]
        }
      ]
    },
    {
      "cell_type": "code",
      "source": [
        "# numpy pi- looks like it falls through to the basic lib\n",
        "np_pi = np.pi\n",
        "\n",
        "print( f\"{np_pi:.{100}f}\" )"
      ],
      "metadata": {
        "colab": {
          "base_uri": "https://localhost:8080/"
        },
        "id": "g2l9Bt4vNGvl",
        "outputId": "758d3b9e-1d4c-4bed-82f2-d8b55e795039"
      },
      "execution_count": 90,
      "outputs": [
        {
          "output_type": "stream",
          "name": "stdout",
          "text": [
            "3.1415926535897931159979634685441851615905761718750000000000000000000000000000000000000000000000000000\n"
          ]
        }
      ]
    },
    {
      "cell_type": "code",
      "source": [
        "# leibniz pi\n",
        "\n",
        "def calculate_leibniz_pi( iterations ):\n",
        "    pi = 0\n",
        "    for i in range( iterations ):\n",
        "        pi += ( (-1)**i ) / ( 2*i + 1 )\n",
        "    return pi*4\n",
        "\n",
        "leibniz_pi = calculate_leibniz_pi(1000000)\n",
        "\n",
        "print( f\"{leibniz_pi:.{100}f}\" )"
      ],
      "metadata": {
        "colab": {
          "base_uri": "https://localhost:8080/"
        },
        "id": "BL3mgXwCNZDn",
        "outputId": "655feb33-bc4f-42a2-b131-5a3dffcc64e3"
      },
      "execution_count": 89,
      "outputs": [
        {
          "output_type": "stream",
          "name": "stdout",
          "text": [
            "3.1415916535897743244731827871873974800109863281250000000000000000000000000000000000000000000000000000\n"
          ]
        }
      ]
    },
    {
      "cell_type": "code",
      "source": [
        "# chudnovsky pi\n",
        "\n",
        "def calculate_chudnovsky_pi( precision ):\n",
        "    decimal.getcontext().prec = precision\n",
        "    C = 426880 * decimal.Decimal(10005).sqrt()\n",
        "    L = 13591409\n",
        "    X = 1\n",
        "    M = 1\n",
        "    K = 6\n",
        "    S = L\n",
        "    for i in range(1, precision):\n",
        "        M = (K**3 - 16*K) * M // i**3\n",
        "        L += 545140134\n",
        "        X *= -262537412640768000\n",
        "        S += decimal.Decimal(M * L) / X\n",
        "        K += 12\n",
        "    pi = C / S\n",
        "    return pi\n",
        "\n",
        "chudnovsky_pi = calculate_chudnovsky_pi(1000)\n",
        "\n",
        "print( f\"{chudnovsky_pi:.{1000}f}\" )\n"
      ],
      "metadata": {
        "colab": {
          "base_uri": "https://localhost:8080/"
        },
        "id": "s2TkZm5tOVnv",
        "outputId": "213bdbe4-2bdd-44cd-ba40-ba2f81869a09"
      },
      "execution_count": null,
      "outputs": [
        {
          "output_type": "stream",
          "name": "stdout",
          "text": [
            "3.1415926535897932384626433832795028841971693993751058209749445923078164062862089986280348253421170679821480865132823066470938446095505822317253594081284811174502841027019385211055596446229489549303819644288109756659334461284756482337867831652712019091456485669234603486104543266482133936072602491412737245870066063155881748815209209628292540917153643678925903600113305305488204665213841469519415116094330572703657595919530921861173819326117931051185480744623799627495673518857527248912279381830119491298336733624406566430860213949463952247371907021798609437027705392171762931767523846748184676694051320005681271452635608277857713427577896091736371787214684409012249534301465495853710507922796892589235420199561121290219608640344181598136297747713099605187072113499999983729780499510597317328160963185950244594553469083026425223082533446850352619311881710100031378387528865875332083814206171776691473035982534904287554687311595628638823537875937519577818577805321712268066130019278766111959092164202080\n"
          ]
        }
      ]
    },
    {
      "cell_type": "code",
      "source": [
        "# set up access to data drive\n",
        "\n",
        "from google.colab import drive\n",
        "\n",
        "WORK_DRIVE = '/gdrive'\n",
        "WORK_AREA = WORK_DRIVE + '/MyDrive/Colab Notebooks/'\n",
        "\n",
        "drive.mount(WORK_DRIVE)\n",
        "os.chdir(WORK_AREA)\n",
        "\n",
        "os.getcwd()"
      ],
      "metadata": {
        "colab": {
          "base_uri": "https://localhost:8080/",
          "height": 53
        },
        "id": "PoNTITwgWD9Z",
        "outputId": "9171af33-bcae-47a7-c1f2-07b162e649c0"
      },
      "execution_count": 3,
      "outputs": [
        {
          "output_type": "stream",
          "name": "stdout",
          "text": [
            "Mounted at /gdrive\n"
          ]
        },
        {
          "output_type": "execute_result",
          "data": {
            "text/plain": [
              "'/gdrive/MyDrive/Colab Notebooks'"
            ],
            "application/vnd.google.colaboratory.intrinsic+json": {
              "type": "string"
            }
          },
          "metadata": {},
          "execution_count": 3
        }
      ]
    },
    {
      "cell_type": "code",
      "source": [
        "\n",
        "\n",
        "full_path = 'pimilliondigitsreally.txt'\n",
        "f = open( full_path, 'rb')\n",
        "print( f )\n",
        "\n",
        "# read digits in, and they are binary strings\n",
        "binary_lines = f.readlines()\n",
        "\n",
        "\n",
        "# convert to ascii strings\n",
        "text_lines = [ l.decode( 'utf-8' ) for l in binary_lines ]\n",
        "\n",
        "\n",
        "# get rid of the newline characters\n",
        "clean_lines = []\n",
        "for line in text_lines:\n",
        "    clean_lines.append(line.replace('\\n', ''))\n",
        "\n",
        "\n",
        "pi_string = ''.join( clean_lines )\n",
        "print( \"pi_string length:\", len(pi_string ))\n",
        "\n"
      ],
      "metadata": {
        "colab": {
          "base_uri": "https://localhost:8080/"
        },
        "id": "yxv5vAosWODX",
        "outputId": "af319c38-7395-4395-e181-c8339c2c3ebc"
      },
      "execution_count": 93,
      "outputs": [
        {
          "output_type": "stream",
          "name": "stdout",
          "text": [
            "<_io.BufferedReader name='pimilliondigitsreally.txt'>\n",
            "pi_string length: 1000001\n"
          ]
        }
      ]
    },
    {
      "cell_type": "code",
      "source": [
        "# convert string to a list of digits\n",
        "\n",
        "pi_digits = [int(d) for d in pi_string ]\n",
        "print( \"n digits of pi:\", len( pi_digits))\n",
        "print( \"pi_digits:\", pi_digits[0:1000] )\n",
        "\n",
        "\n"
      ],
      "metadata": {
        "colab": {
          "base_uri": "https://localhost:8080/"
        },
        "id": "cMmIECUhUb3i",
        "outputId": "cb049f24-6839-4547-c2ef-6f3b9bf21eb6"
      },
      "execution_count": 6,
      "outputs": [
        {
          "output_type": "stream",
          "name": "stdout",
          "text": [
            "n digits of pi: 1000001\n",
            "pi_digits: [3, 1, 4, 1, 5, 9, 2, 6, 5, 3, 5, 8, 9, 7, 9, 3, 2, 3, 8, 4, 6, 2, 6, 4, 3, 3, 8, 3, 2, 7, 9, 5, 0, 2, 8, 8, 4, 1, 9, 7, 1, 6, 9, 3, 9, 9, 3, 7, 5, 1, 0, 5, 8, 2, 0, 9, 7, 4, 9, 4, 4, 5, 9, 2, 3, 0, 7, 8, 1, 6, 4, 0, 6, 2, 8, 6, 2, 0, 8, 9, 9, 8, 6, 2, 8, 0, 3, 4, 8, 2, 5, 3, 4, 2, 1, 1, 7, 0, 6, 7, 9, 8, 2, 1, 4, 8, 0, 8, 6, 5, 1, 3, 2, 8, 2, 3, 0, 6, 6, 4, 7, 0, 9, 3, 8, 4, 4, 6, 0, 9, 5, 5, 0, 5, 8, 2, 2, 3, 1, 7, 2, 5, 3, 5, 9, 4, 0, 8, 1, 2, 8, 4, 8, 1, 1, 1, 7, 4, 5, 0, 2, 8, 4, 1, 0, 2, 7, 0, 1, 9, 3, 8, 5, 2, 1, 1, 0, 5, 5, 5, 9, 6, 4, 4, 6, 2, 2, 9, 4, 8, 9, 5, 4, 9, 3, 0, 3, 8, 1, 9, 6, 4, 4, 2, 8, 8, 1, 0, 9, 7, 5, 6, 6, 5, 9, 3, 3, 4, 4, 6, 1, 2, 8, 4, 7, 5, 6, 4, 8, 2, 3, 3, 7, 8, 6, 7, 8, 3, 1, 6, 5, 2, 7, 1, 2, 0, 1, 9, 0, 9, 1, 4, 5, 6, 4, 8, 5, 6, 6, 9, 2, 3, 4, 6, 0, 3, 4, 8, 6, 1, 0, 4, 5, 4, 3, 2, 6, 6, 4, 8, 2, 1, 3, 3, 9, 3, 6, 0, 7, 2, 6, 0, 2, 4, 9, 1, 4, 1, 2, 7, 3, 7, 2, 4, 5, 8, 7, 0, 0, 6, 6, 0, 6, 3, 1, 5, 5, 8, 8, 1, 7, 4, 8, 8, 1, 5, 2, 0, 9, 2, 0, 9, 6, 2, 8, 2, 9, 2, 5, 4, 0, 9, 1, 7, 1, 5, 3, 6, 4, 3, 6, 7, 8, 9, 2, 5, 9, 0, 3, 6, 0, 0, 1, 1, 3, 3, 0, 5, 3, 0, 5, 4, 8, 8, 2, 0, 4, 6, 6, 5, 2, 1, 3, 8, 4, 1, 4, 6, 9, 5, 1, 9, 4, 1, 5, 1, 1, 6, 0, 9, 4, 3, 3, 0, 5, 7, 2, 7, 0, 3, 6, 5, 7, 5, 9, 5, 9, 1, 9, 5, 3, 0, 9, 2, 1, 8, 6, 1, 1, 7, 3, 8, 1, 9, 3, 2, 6, 1, 1, 7, 9, 3, 1, 0, 5, 1, 1, 8, 5, 4, 8, 0, 7, 4, 4, 6, 2, 3, 7, 9, 9, 6, 2, 7, 4, 9, 5, 6, 7, 3, 5, 1, 8, 8, 5, 7, 5, 2, 7, 2, 4, 8, 9, 1, 2, 2, 7, 9, 3, 8, 1, 8, 3, 0, 1, 1, 9, 4, 9, 1, 2, 9, 8, 3, 3, 6, 7, 3, 3, 6, 2, 4, 4, 0, 6, 5, 6, 6, 4, 3, 0, 8, 6, 0, 2, 1, 3, 9, 4, 9, 4, 6, 3, 9, 5, 2, 2, 4, 7, 3, 7, 1, 9, 0, 7, 0, 2, 1, 7, 9, 8, 6, 0, 9, 4, 3, 7, 0, 2, 7, 7, 0, 5, 3, 9, 2, 1, 7, 1, 7, 6, 2, 9, 3, 1, 7, 6, 7, 5, 2, 3, 8, 4, 6, 7, 4, 8, 1, 8, 4, 6, 7, 6, 6, 9, 4, 0, 5, 1, 3, 2, 0, 0, 0, 5, 6, 8, 1, 2, 7, 1, 4, 5, 2, 6, 3, 5, 6, 0, 8, 2, 7, 7, 8, 5, 7, 7, 1, 3, 4, 2, 7, 5, 7, 7, 8, 9, 6, 0, 9, 1, 7, 3, 6, 3, 7, 1, 7, 8, 7, 2, 1, 4, 6, 8, 4, 4, 0, 9, 0, 1, 2, 2, 4, 9, 5, 3, 4, 3, 0, 1, 4, 6, 5, 4, 9, 5, 8, 5, 3, 7, 1, 0, 5, 0, 7, 9, 2, 2, 7, 9, 6, 8, 9, 2, 5, 8, 9, 2, 3, 5, 4, 2, 0, 1, 9, 9, 5, 6, 1, 1, 2, 1, 2, 9, 0, 2, 1, 9, 6, 0, 8, 6, 4, 0, 3, 4, 4, 1, 8, 1, 5, 9, 8, 1, 3, 6, 2, 9, 7, 7, 4, 7, 7, 1, 3, 0, 9, 9, 6, 0, 5, 1, 8, 7, 0, 7, 2, 1, 1, 3, 4, 9, 9, 9, 9, 9, 9, 8, 3, 7, 2, 9, 7, 8, 0, 4, 9, 9, 5, 1, 0, 5, 9, 7, 3, 1, 7, 3, 2, 8, 1, 6, 0, 9, 6, 3, 1, 8, 5, 9, 5, 0, 2, 4, 4, 5, 9, 4, 5, 5, 3, 4, 6, 9, 0, 8, 3, 0, 2, 6, 4, 2, 5, 2, 2, 3, 0, 8, 2, 5, 3, 3, 4, 4, 6, 8, 5, 0, 3, 5, 2, 6, 1, 9, 3, 1, 1, 8, 8, 1, 7, 1, 0, 1, 0, 0, 0, 3, 1, 3, 7, 8, 3, 8, 7, 5, 2, 8, 8, 6, 5, 8, 7, 5, 3, 3, 2, 0, 8, 3, 8, 1, 4, 2, 0, 6, 1, 7, 1, 7, 7, 6, 6, 9, 1, 4, 7, 3, 0, 3, 5, 9, 8, 2, 5, 3, 4, 9, 0, 4, 2, 8, 7, 5, 5, 4, 6, 8, 7, 3, 1, 1, 5, 9, 5, 6, 2, 8, 6, 3, 8, 8, 2, 3, 5, 3, 7, 8, 7, 5, 9, 3, 7, 5, 1, 9, 5, 7, 7, 8, 1, 8, 5, 7, 7, 8, 0, 5, 3, 2, 1, 7, 1, 2, 2, 6, 8, 0, 6, 6, 1, 3, 0, 0, 1, 9, 2, 7, 8, 7, 6, 6, 1, 1, 1, 9, 5, 9, 0, 9, 2, 1, 6, 4, 2, 0, 1, 9, 8]\n"
          ]
        }
      ]
    },
    {
      "cell_type": "code",
      "source": [
        "# ok! now we have something to work with.\n",
        "\n",
        "# let's start with some basics - what's the distribution of digits in the first million digits of pi?\n",
        "\n",
        "def get_digit_distribution( digits ):\n",
        "    digit_counts = {}\n",
        "    for digit in digits:\n",
        "        if digit in digit_counts:\n",
        "            digit_counts[digit] += 1\n",
        "        else:\n",
        "            digit_counts[digit] = 1\n",
        "    return digit_counts\n",
        "\n",
        "digit_distribution = get_digit_distribution( pi_digits )\n",
        "print( digit_distribution )\n",
        "\n",
        "# and create a dataframe\n",
        "digits_dist_df = pd.DataFrame(list(digit_distribution.items()), columns=['digit', 'count'])\n",
        "print( \"digits_dist_df:\", digits_dist_df )\n",
        "\n",
        "\n",
        "plt.hist( digit_distribution, bins=10 )\n",
        "plt.show()\n",
        "\n",
        "print( digits_dist_df.describe() )\n"
      ],
      "metadata": {
        "colab": {
          "base_uri": "https://localhost:8080/",
          "height": 805
        },
        "id": "z9gEQ3Gwc5Lk",
        "outputId": "0cc9caa3-8ab1-4218-a641-bfb0b613dd2c"
      },
      "execution_count": 7,
      "outputs": [
        {
          "output_type": "stream",
          "name": "stdout",
          "text": [
            "{3: 100230, 1: 99758, 4: 100230, 5: 100359, 9: 100106, 2: 100026, 6: 99548, 8: 99985, 7: 99800, 0: 99959}\n",
            "digits_dist_df:    digit   count\n",
            "0      3  100230\n",
            "1      1   99758\n",
            "2      4  100230\n",
            "3      5  100359\n",
            "4      9  100106\n",
            "5      2  100026\n",
            "6      6   99548\n",
            "7      8   99985\n",
            "8      7   99800\n",
            "9      0   99959\n"
          ]
        },
        {
          "output_type": "display_data",
          "data": {
            "text/plain": [
              "<Figure size 640x480 with 1 Axes>"
            ],
            "image/png": "[encoded data removed]"
          },
          "metadata": {}
        },
        {
          "output_type": "stream",
          "name": "stdout",
          "text": [
            "          digit          count\n",
            "count  10.00000      10.000000\n",
            "mean    4.50000  100000.100000\n",
            "std     3.02765     247.513614\n",
            "min     0.00000   99548.000000\n",
            "25%     2.25000   99839.750000\n",
            "50%     4.50000  100005.500000\n",
            "75%     6.75000  100199.000000\n",
            "max     9.00000  100359.000000\n"
          ]
        }
      ]
    },
    {
      "cell_type": "code",
      "source": [
        "# define some useful values for graphs\n",
        "\n",
        "piName = \"\\u03A0\"\n",
        "piDigitsLabels = ['0', '1', '2', '3', '4', '5', '6', '7', '8', '9']\n",
        "\n"
      ],
      "metadata": {
        "id": "878esKkzoMaC"
      },
      "execution_count": 8,
      "outputs": []
    },
    {
      "cell_type": "code",
      "source": [
        "# let's try to graph this prettier in Plotly\n",
        "\n",
        "\n",
        "\n",
        "fig = go.Figure(\n",
        "    data=[\n",
        "        go.Bar(name='digit', x=digits_dist_df['digit'], y=digits_dist_df['count'])\n",
        "    ],\n",
        "    layout=go.Layout(\n",
        "        title=dict(\n",
        "            text=\"Distribution of digits for the first million places of \" + piName,\n",
        "            xanchor=\"center\",\n",
        "            yanchor=\"top\",\n",
        "            y=0.95,\n",
        "            x=0.5\n",
        "        ),\n",
        "        xaxis=dict(\n",
        "            title=\"Digits ( 0 - 9)\",\n",
        "            tickmode = 'array',\n",
        "            tickvals = piDigitsLabels\n",
        "        ),\n",
        "        yaxis=dict(\n",
        "            title=dict(\n",
        "                text=\"Count of Occurences\"\n",
        "            )\n",
        "        ),\n",
        "        font=dict(\n",
        "            family=\"Helvetica\",\n",
        "            size=18,\n",
        "            color=\"IndianRed\",\n",
        "            variant=\"small-caps\",\n",
        "        ),\n",
        "        width=1000, height=800,\n",
        "    )\n",
        ")\n",
        "\n",
        "fig.show()\n",
        "\n",
        "\n"
      ],
      "metadata": {
        "colab": {
          "base_uri": "https://localhost:8080/",
          "height": 817
        },
        "id": "gTVVutKYeVmT",
        "outputId": "c38a2716-820e-4117-873e-dd26bcb24a15"
      },
      "execution_count": 88,
      "outputs": [
        {
          "output_type": "display_data",
          "data": {
            "text/html": [
              "<html>\n",
              "<head><meta charset=\"utf-8\" /></head>\n",
              "<body>\n",
              "    <div>            <script src=\"https://cdnjs.cloudflare.com/ajax/libs/mathjax/2.7.5/MathJax.js?config=TeX-AMS-MML_SVG\"></script><script type=\"text/javascript\">if (window.MathJax && window.MathJax.Hub && window.MathJax.Hub.Config) {window.MathJax.Hub.Config({SVG: {font: \"STIX-Web\"}});}</script>                <script type=\"text/javascript\">window.PlotlyConfig = {MathJaxConfig: 'local'};</script>\n",
              "        <script charset=\"utf-8\" src=\"https://cdn.plot.ly/plotly-2.35.2.min.js\"></script>                <div id=\"c2f3096b-9a96-49bc-8c46-cc99370ea286\" class=\"plotly-graph-div\" style=\"height:800px; width:1000px;\"></div>            <script type=\"text/javascript\">                                    window.PLOTLYENV=window.PLOTLYENV || {};                                    if (document.getElementById(\"c2f3096b-9a96-49bc-8c46-cc99370ea286\")) {                    Plotly.newPlot(                        \"c2f3096b-9a96-49bc-8c46-cc99370ea286\",                        [{\"name\":\"digit\",\"x\":[3,1,4,5,9,2,6,8,7,0],\"y\":[100230,99758,100230,100359,100106,100026,99548,99985,99800,99959],\"type\":\"bar\"}],                        {\"font\":{\"color\":\"IndianRed\",\"family\":\"Helvetica\",\"size\":18,\"variant\":\"small-caps\"},\"height\":800,\"title\":{\"text\":\"Distribution of digits for the first million places of Π\",\"x\":0.5,\"xanchor\":\"center\",\"y\":0.95,\"yanchor\":\"top\"},\"width\":1000,\"xaxis\":{\"tickmode\":\"array\",\"tickvals\":[\"0\",\"1\",\"2\",\"3\",\"4\",\"5\",\"6\",\"7\",\"8\",\"9\"],\"title\":{\"text\":\"Digits ( 0 - 9)\"}},\"yaxis\":{\"title\":{\"text\":\"Count of Occurences\"}},\"template\":{\"data\":{\"histogram2dcontour\":[{\"type\":\"histogram2dcontour\",\"colorbar\":{\"outlinewidth\":0,\"ticks\":\"\"},\"colorscale\":[[0.0,\"#0d0887\"],[0.1111111111111111,\"#46039f\"],[0.2222222222222222,\"#7201a8\"],[0.3333333333333333,\"#9c179e\"],[0.4444444444444444,\"#bd3786\"],[0.5555555555555556,\"#d8576b\"],[0.6666666666666666,\"#ed7953\"],[0.7777777777777778,\"#fb9f3a\"],[0.8888888888888888,\"#fdca26\"],[1.0,\"#f0f921\"]]}],\"choropleth\":[{\"type\":\"choropleth\",\"colorbar\":{\"outlinewidth\":0,\"ticks\":\"\"}}],\"histogram2d\":[{\"type\":\"histogram2d\",\"colorbar\":{\"outlinewidth\":0,\"ticks\":\"\"},\"colorscale\":[[0.0,\"#0d0887\"],[0.1111111111111111,\"#46039f\"],[0.2222222222222222,\"#7201a8\"],[0.3333333333333333,\"#9c179e\"],[0.4444444444444444,\"#bd3786\"],[0.5555555555555556,\"#d8576b\"],[0.6666666666666666,\"#ed7953\"],[0.7777777777777778,\"#fb9f3a\"],[0.8888888888888888,\"#fdca26\"],[1.0,\"#f0f921\"]]}],\"heatmap\":[{\"type\":\"heatmap\",\"colorbar\":{\"outlinewidth\":0,\"ticks\":\"\"},\"colorscale\":[[0.0,\"#0d0887\"],[0.1111111111111111,\"#46039f\"],[0.2222222222222222,\"#7201a8\"],[0.3333333333333333,\"#9c179e\"],[0.4444444444444444,\"#bd3786\"],[0.5555555555555556,\"#d8576b\"],[0.6666666666666666,\"#ed7953\"],[0.7777777777777778,\"#fb9f3a\"],[0.8888888888888888,\"#fdca26\"],[1.0,\"#f0f921\"]]}],\"heatmapgl\":[{\"type\":\"heatmapgl\",\"colorbar\":{\"outlinewidth\":0,\"ticks\":\"\"},\"colorscale\":[[0.0,\"#0d0887\"],[0.1111111111111111,\"#46039f\"],[0.2222222222222222,\"#7201a8\"],[0.3333333333333333,\"#9c179e\"],[0.4444444444444444,\"#bd3786\"],[0.5555555555555556,\"#d8576b\"],[0.6666666666666666,\"#ed7953\"],[0.7777777777777778,\"#fb9f3a\"],[0.8888888888888888,\"#fdca26\"],[1.0,\"#f0f921\"]]}],\"contourcarpet\":[{\"type\":\"contourcarpet\",\"colorbar\":{\"outlinewidth\":0,\"ticks\":\"\"}}],\"contour\":[{\"type\":\"contour\",\"colorbar\":{\"outlinewidth\":0,\"ticks\":\"\"},\"colorscale\":[[0.0,\"#0d0887\"],[0.1111111111111111,\"#46039f\"],[0.2222222222222222,\"#7201a8\"],[0.3333333333333333,\"#9c179e\"],[0.4444444444444444,\"#bd3786\"],[0.5555555555555556,\"#d8576b\"],[0.6666666666666666,\"#ed7953\"],[0.7777777777777778,\"#fb9f3a\"],[0.8888888888888888,\"#fdca26\"],[1.0,\"#f0f921\"]]}],\"surface\":[{\"type\":\"surface\",\"colorbar\":{\"outlinewidth\":0,\"ticks\":\"\"},\"colorscale\":[[0.0,\"#0d0887\"],[0.1111111111111111,\"#46039f\"],[0.2222222222222222,\"#7201a8\"],[0.3333333333333333,\"#9c179e\"],[0.4444444444444444,\"#bd3786\"],[0.5555555555555556,\"#d8576b\"],[0.6666666666666666,\"#ed7953\"],[0.7777777777777778,\"#fb9f3a\"],[0.8888888888888888,\"#fdca26\"],[1.0,\"#f0f921\"]]}],\"mesh3d\":[{\"type\":\"mesh3d\",\"colorbar\":{\"outlinewidth\":0,\"ticks\":\"\"}}],\"scatter\":[{\"fillpattern\":{\"fillmode\":\"overlay\",\"size\":10,\"solidity\":0.2},\"type\":\"scatter\"}],\"parcoords\":[{\"type\":\"parcoords\",\"line\":{\"colorbar\":{\"outlinewidth\":0,\"ticks\":\"\"}}}],\"scatterpolargl\":[{\"type\":\"scatterpolargl\",\"marker\":{\"colorbar\":{\"outlinewidth\":0,\"ticks\":\"\"}}}],\"bar\":[{\"error_x\":{\"color\":\"#2a3f5f\"},\"error_y\":{\"color\":\"#2a3f5f\"},\"marker\":{\"line\":{\"color\":\"#E5ECF6\",\"width\":0.5},\"pattern\":{\"fillmode\":\"overlay\",\"size\":10,\"solidity\":0.2}},\"type\":\"bar\"}],\"scattergeo\":[{\"type\":\"scattergeo\",\"marker\":{\"colorbar\":{\"outlinewidth\":0,\"ticks\":\"\"}}}],\"scatterpolar\":[{\"type\":\"scatterpolar\",\"marker\":{\"colorbar\":{\"outlinewidth\":0,\"ticks\":\"\"}}}],\"histogram\":[{\"marker\":{\"pattern\":{\"fillmode\":\"overlay\",\"size\":10,\"solidity\":0.2}},\"type\":\"histogram\"}],\"scattergl\":[{\"type\":\"scattergl\",\"marker\":{\"colorbar\":{\"outlinewidth\":0,\"ticks\":\"\"}}}],\"scatter3d\":[{\"type\":\"scatter3d\",\"line\":{\"colorbar\":{\"outlinewidth\":0,\"ticks\":\"\"}},\"marker\":{\"colorbar\":{\"outlinewidth\":0,\"ticks\":\"\"}}}],\"scattermapbox\":[{\"type\":\"scattermapbox\",\"marker\":{\"colorbar\":{\"outlinewidth\":0,\"ticks\":\"\"}}}],\"scatterternary\":[{\"type\":\"scatterternary\",\"marker\":{\"colorbar\":{\"outlinewidth\":0,\"ticks\":\"\"}}}],\"scattercarpet\":[{\"type\":\"scattercarpet\",\"marker\":{\"colorbar\":{\"outlinewidth\":0,\"ticks\":\"\"}}}],\"carpet\":[{\"aaxis\":{\"endlinecolor\":\"#2a3f5f\",\"gridcolor\":\"white\",\"linecolor\":\"white\",\"minorgridcolor\":\"white\",\"startlinecolor\":\"#2a3f5f\"},\"baxis\":{\"endlinecolor\":\"#2a3f5f\",\"gridcolor\":\"white\",\"linecolor\":\"white\",\"minorgridcolor\":\"white\",\"startlinecolor\":\"#2a3f5f\"},\"type\":\"carpet\"}],\"table\":[{\"cells\":{\"fill\":{\"color\":\"#EBF0F8\"},\"line\":{\"color\":\"white\"}},\"header\":{\"fill\":{\"color\":\"#C8D4E3\"},\"line\":{\"color\":\"white\"}},\"type\":\"table\"}],\"barpolar\":[{\"marker\":{\"line\":{\"color\":\"#E5ECF6\",\"width\":0.5},\"pattern\":{\"fillmode\":\"overlay\",\"size\":10,\"solidity\":0.2}},\"type\":\"barpolar\"}],\"pie\":[{\"automargin\":true,\"type\":\"pie\"}]},\"layout\":{\"autotypenumbers\":\"strict\",\"colorway\":[\"#636efa\",\"#EF553B\",\"#00cc96\",\"#ab63fa\",\"#FFA15A\",\"#19d3f3\",\"#FF6692\",\"#B6E880\",\"#FF97FF\",\"#FECB52\"],\"font\":{\"color\":\"#2a3f5f\"},\"hovermode\":\"closest\",\"hoverlabel\":{\"align\":\"left\"},\"paper_bgcolor\":\"white\",\"plot_bgcolor\":\"#E5ECF6\",\"polar\":{\"bgcolor\":\"#E5ECF6\",\"angularaxis\":{\"gridcolor\":\"white\",\"linecolor\":\"white\",\"ticks\":\"\"},\"radialaxis\":{\"gridcolor\":\"white\",\"linecolor\":\"white\",\"ticks\":\"\"}},\"ternary\":{\"bgcolor\":\"#E5ECF6\",\"aaxis\":{\"gridcolor\":\"white\",\"linecolor\":\"white\",\"ticks\":\"\"},\"baxis\":{\"gridcolor\":\"white\",\"linecolor\":\"white\",\"ticks\":\"\"},\"caxis\":{\"gridcolor\":\"white\",\"linecolor\":\"white\",\"ticks\":\"\"}},\"coloraxis\":{\"colorbar\":{\"outlinewidth\":0,\"ticks\":\"\"}},\"colorscale\":{\"sequential\":[[0.0,\"#0d0887\"],[0.1111111111111111,\"#46039f\"],[0.2222222222222222,\"#7201a8\"],[0.3333333333333333,\"#9c179e\"],[0.4444444444444444,\"#bd3786\"],[0.5555555555555556,\"#d8576b\"],[0.6666666666666666,\"#ed7953\"],[0.7777777777777778,\"#fb9f3a\"],[0.8888888888888888,\"#fdca26\"],[1.0,\"#f0f921\"]],\"sequentialminus\":[[0.0,\"#0d0887\"],[0.1111111111111111,\"#46039f\"],[0.2222222222222222,\"#7201a8\"],[0.3333333333333333,\"#9c179e\"],[0.4444444444444444,\"#bd3786\"],[0.5555555555555556,\"#d8576b\"],[0.6666666666666666,\"#ed7953\"],[0.7777777777777778,\"#fb9f3a\"],[0.8888888888888888,\"#fdca26\"],[1.0,\"#f0f921\"]],\"diverging\":[[0,\"#8e0152\"],[0.1,\"#c51b7d\"],[0.2,\"#de77ae\"],[0.3,\"#f1b6da\"],[0.4,\"#fde0ef\"],[0.5,\"#f7f7f7\"],[0.6,\"#e6f5d0\"],[0.7,\"#b8e186\"],[0.8,\"#7fbc41\"],[0.9,\"#4d9221\"],[1,\"#276419\"]]},\"xaxis\":{\"gridcolor\":\"white\",\"linecolor\":\"white\",\"ticks\":\"\",\"title\":{\"standoff\":15},\"zerolinecolor\":\"white\",\"automargin\":true,\"zerolinewidth\":2},\"yaxis\":{\"gridcolor\":\"white\",\"linecolor\":\"white\",\"ticks\":\"\",\"title\":{\"standoff\":15},\"zerolinecolor\":\"white\",\"automargin\":true,\"zerolinewidth\":2},\"scene\":{\"xaxis\":{\"backgroundcolor\":\"#E5ECF6\",\"gridcolor\":\"white\",\"linecolor\":\"white\",\"showbackground\":true,\"ticks\":\"\",\"zerolinecolor\":\"white\",\"gridwidth\":2},\"yaxis\":{\"backgroundcolor\":\"#E5ECF6\",\"gridcolor\":\"white\",\"linecolor\":\"white\",\"showbackground\":true,\"ticks\":\"\",\"zerolinecolor\":\"white\",\"gridwidth\":2},\"zaxis\":{\"backgroundcolor\":\"#E5ECF6\",\"gridcolor\":\"white\",\"linecolor\":\"white\",\"showbackground\":true,\"ticks\":\"\",\"zerolinecolor\":\"white\",\"gridwidth\":2}},\"shapedefaults\":{\"line\":{\"color\":\"#2a3f5f\"}},\"annotationdefaults\":{\"arrowcolor\":\"#2a3f5f\",\"arrowhead\":0,\"arrowwidth\":1},\"geo\":{\"bgcolor\":\"white\",\"landcolor\":\"#E5ECF6\",\"subunitcolor\":\"white\",\"showland\":true,\"showlakes\":true,\"lakecolor\":\"white\"},\"title\":{\"x\":0.05},\"mapbox\":{\"style\":\"light\"}}}},                        {\"responsive\": true}                    ).then(function(){\n",
              "                            \n",
              "var gd = document.getElementById('c2f3096b-9a96-49bc-8c46-cc99370ea286');\n",
              "var x = new MutationObserver(function (mutations, observer) {{\n",
              "        var display = window.getComputedStyle(gd).display;\n",
              "        if (!display || display === 'none') {{\n",
              "            console.log([gd, 'removed!']);\n",
              "            Plotly.purge(gd);\n",
              "            observer.disconnect();\n",
              "        }}\n",
              "}});\n",
              "\n",
              "// Listen for the removal of the full notebook cells\n",
              "var notebookContainer = gd.closest('#notebook-container');\n",
              "if (notebookContainer) {{\n",
              "    x.observe(notebookContainer, {childList: true});\n",
              "}}\n",
              "\n",
              "// Listen for the clearing of the current output cell\n",
              "var outputEl = gd.closest('.output');\n",
              "if (outputEl) {{\n",
              "    x.observe(outputEl, {childList: true});\n",
              "}}\n",
              "\n",
              "                        })                };                            </script>        </div>\n",
              "</body>\n",
              "</html>"
            ]
          },
          "metadata": {}
        }
      ]
    },
    {
      "cell_type": "code",
      "source": [
        "# seems like we should include a pie chart...\n",
        "\n",
        "fig = go.Figure(\n",
        "    data=[ go.Pie(labels=piDigitsLabels, values=digits_dist_df['count'])],\n",
        "    layout=go.Layout(\n",
        "        title=dict(\n",
        "            text=\"Distribution of digits for the first million places of \" + piName,\n",
        "            xanchor=\"center\",\n",
        "            yanchor=\"top\",\n",
        "            y=0.95,\n",
        "            x=0.5\n",
        "        ),\n",
        "        font=dict(\n",
        "            family=\"Helvetica\",\n",
        "            size=18,\n",
        "            color=\"IndianRed\",\n",
        "            variant=\"small-caps\",\n",
        "        ),\n",
        "        width=1000, height=800,\n",
        "    )\n",
        ")\n",
        "\n",
        "\n",
        "fig.show()"
      ],
      "metadata": {
        "colab": {
          "base_uri": "https://localhost:8080/",
          "height": 817
        },
        "id": "JD16u0IjgFTa",
        "outputId": "db6ac4be-912a-4ec5-b0c1-473a99d6145f"
      },
      "execution_count": 86,
      "outputs": [
        {
          "output_type": "display_data",
          "data": {
            "text/html": [
              "<html>\n",
              "<head><meta charset=\"utf-8\" /></head>\n",
              "<body>\n",
              "    <div>            <script src=\"https://cdnjs.cloudflare.com/ajax/libs/mathjax/2.7.5/MathJax.js?config=TeX-AMS-MML_SVG\"></script><script type=\"text/javascript\">if (window.MathJax && window.MathJax.Hub && window.MathJax.Hub.Config) {window.MathJax.Hub.Config({SVG: {font: \"STIX-Web\"}});}</script>                <script type=\"text/javascript\">window.PlotlyConfig = {MathJaxConfig: 'local'};</script>\n",
              "        <script charset=\"utf-8\" src=\"https://cdn.plot.ly/plotly-2.35.2.min.js\"></script>                <div id=\"b8acc988-035a-4809-b3e8-2588acc4e1fa\" class=\"plotly-graph-div\" style=\"height:800px; width:1000px;\"></div>            <script type=\"text/javascript\">                                    window.PLOTLYENV=window.PLOTLYENV || {};                                    if (document.getElementById(\"b8acc988-035a-4809-b3e8-2588acc4e1fa\")) {                    Plotly.newPlot(                        \"b8acc988-035a-4809-b3e8-2588acc4e1fa\",                        [{\"labels\":[\"0\",\"1\",\"2\",\"3\",\"4\",\"5\",\"6\",\"7\",\"8\",\"9\"],\"values\":[100230,99758,100230,100359,100106,100026,99548,99985,99800,99959],\"type\":\"pie\"}],                        {\"font\":{\"color\":\"IndianRed\",\"family\":\"Helvetica\",\"size\":18,\"variant\":\"small-caps\"},\"height\":800,\"title\":{\"text\":\"Distribution of digits for the first million places of Π\",\"x\":0.5,\"xanchor\":\"center\",\"y\":0.95,\"yanchor\":\"top\"},\"width\":1000,\"template\":{\"data\":{\"histogram2dcontour\":[{\"type\":\"histogram2dcontour\",\"colorbar\":{\"outlinewidth\":0,\"ticks\":\"\"},\"colorscale\":[[0.0,\"#0d0887\"],[0.1111111111111111,\"#46039f\"],[0.2222222222222222,\"#7201a8\"],[0.3333333333333333,\"#9c179e\"],[0.4444444444444444,\"#bd3786\"],[0.5555555555555556,\"#d8576b\"],[0.6666666666666666,\"#ed7953\"],[0.7777777777777778,\"#fb9f3a\"],[0.8888888888888888,\"#fdca26\"],[1.0,\"#f0f921\"]]}],\"choropleth\":[{\"type\":\"choropleth\",\"colorbar\":{\"outlinewidth\":0,\"ticks\":\"\"}}],\"histogram2d\":[{\"type\":\"histogram2d\",\"colorbar\":{\"outlinewidth\":0,\"ticks\":\"\"},\"colorscale\":[[0.0,\"#0d0887\"],[0.1111111111111111,\"#46039f\"],[0.2222222222222222,\"#7201a8\"],[0.3333333333333333,\"#9c179e\"],[0.4444444444444444,\"#bd3786\"],[0.5555555555555556,\"#d8576b\"],[0.6666666666666666,\"#ed7953\"],[0.7777777777777778,\"#fb9f3a\"],[0.8888888888888888,\"#fdca26\"],[1.0,\"#f0f921\"]]}],\"heatmap\":[{\"type\":\"heatmap\",\"colorbar\":{\"outlinewidth\":0,\"ticks\":\"\"},\"colorscale\":[[0.0,\"#0d0887\"],[0.1111111111111111,\"#46039f\"],[0.2222222222222222,\"#7201a8\"],[0.3333333333333333,\"#9c179e\"],[0.4444444444444444,\"#bd3786\"],[0.5555555555555556,\"#d8576b\"],[0.6666666666666666,\"#ed7953\"],[0.7777777777777778,\"#fb9f3a\"],[0.8888888888888888,\"#fdca26\"],[1.0,\"#f0f921\"]]}],\"heatmapgl\":[{\"type\":\"heatmapgl\",\"colorbar\":{\"outlinewidth\":0,\"ticks\":\"\"},\"colorscale\":[[0.0,\"#0d0887\"],[0.1111111111111111,\"#46039f\"],[0.2222222222222222,\"#7201a8\"],[0.3333333333333333,\"#9c179e\"],[0.4444444444444444,\"#bd3786\"],[0.5555555555555556,\"#d8576b\"],[0.6666666666666666,\"#ed7953\"],[0.7777777777777778,\"#fb9f3a\"],[0.8888888888888888,\"#fdca26\"],[1.0,\"#f0f921\"]]}],\"contourcarpet\":[{\"type\":\"contourcarpet\",\"colorbar\":{\"outlinewidth\":0,\"ticks\":\"\"}}],\"contour\":[{\"type\":\"contour\",\"colorbar\":{\"outlinewidth\":0,\"ticks\":\"\"},\"colorscale\":[[0.0,\"#0d0887\"],[0.1111111111111111,\"#46039f\"],[0.2222222222222222,\"#7201a8\"],[0.3333333333333333,\"#9c179e\"],[0.4444444444444444,\"#bd3786\"],[0.5555555555555556,\"#d8576b\"],[0.6666666666666666,\"#ed7953\"],[0.7777777777777778,\"#fb9f3a\"],[0.8888888888888888,\"#fdca26\"],[1.0,\"#f0f921\"]]}],\"surface\":[{\"type\":\"surface\",\"colorbar\":{\"outlinewidth\":0,\"ticks\":\"\"},\"colorscale\":[[0.0,\"#0d0887\"],[0.1111111111111111,\"#46039f\"],[0.2222222222222222,\"#7201a8\"],[0.3333333333333333,\"#9c179e\"],[0.4444444444444444,\"#bd3786\"],[0.5555555555555556,\"#d8576b\"],[0.6666666666666666,\"#ed7953\"],[0.7777777777777778,\"#fb9f3a\"],[0.8888888888888888,\"#fdca26\"],[1.0,\"#f0f921\"]]}],\"mesh3d\":[{\"type\":\"mesh3d\",\"colorbar\":{\"outlinewidth\":0,\"ticks\":\"\"}}],\"scatter\":[{\"fillpattern\":{\"fillmode\":\"overlay\",\"size\":10,\"solidity\":0.2},\"type\":\"scatter\"}],\"parcoords\":[{\"type\":\"parcoords\",\"line\":{\"colorbar\":{\"outlinewidth\":0,\"ticks\":\"\"}}}],\"scatterpolargl\":[{\"type\":\"scatterpolargl\",\"marker\":{\"colorbar\":{\"outlinewidth\":0,\"ticks\":\"\"}}}],\"bar\":[{\"error_x\":{\"color\":\"#2a3f5f\"},\"error_y\":{\"color\":\"#2a3f5f\"},\"marker\":{\"line\":{\"color\":\"#E5ECF6\",\"width\":0.5},\"pattern\":{\"fillmode\":\"overlay\",\"size\":10,\"solidity\":0.2}},\"type\":\"bar\"}],\"scattergeo\":[{\"type\":\"scattergeo\",\"marker\":{\"colorbar\":{\"outlinewidth\":0,\"ticks\":\"\"}}}],\"scatterpolar\":[{\"type\":\"scatterpolar\",\"marker\":{\"colorbar\":{\"outlinewidth\":0,\"ticks\":\"\"}}}],\"histogram\":[{\"marker\":{\"pattern\":{\"fillmode\":\"overlay\",\"size\":10,\"solidity\":0.2}},\"type\":\"histogram\"}],\"scattergl\":[{\"type\":\"scattergl\",\"marker\":{\"colorbar\":{\"outlinewidth\":0,\"ticks\":\"\"}}}],\"scatter3d\":[{\"type\":\"scatter3d\",\"line\":{\"colorbar\":{\"outlinewidth\":0,\"ticks\":\"\"}},\"marker\":{\"colorbar\":{\"outlinewidth\":0,\"ticks\":\"\"}}}],\"scattermapbox\":[{\"type\":\"scattermapbox\",\"marker\":{\"colorbar\":{\"outlinewidth\":0,\"ticks\":\"\"}}}],\"scatterternary\":[{\"type\":\"scatterternary\",\"marker\":{\"colorbar\":{\"outlinewidth\":0,\"ticks\":\"\"}}}],\"scattercarpet\":[{\"type\":\"scattercarpet\",\"marker\":{\"colorbar\":{\"outlinewidth\":0,\"ticks\":\"\"}}}],\"carpet\":[{\"aaxis\":{\"endlinecolor\":\"#2a3f5f\",\"gridcolor\":\"white\",\"linecolor\":\"white\",\"minorgridcolor\":\"white\",\"startlinecolor\":\"#2a3f5f\"},\"baxis\":{\"endlinecolor\":\"#2a3f5f\",\"gridcolor\":\"white\",\"linecolor\":\"white\",\"minorgridcolor\":\"white\",\"startlinecolor\":\"#2a3f5f\"},\"type\":\"carpet\"}],\"table\":[{\"cells\":{\"fill\":{\"color\":\"#EBF0F8\"},\"line\":{\"color\":\"white\"}},\"header\":{\"fill\":{\"color\":\"#C8D4E3\"},\"line\":{\"color\":\"white\"}},\"type\":\"table\"}],\"barpolar\":[{\"marker\":{\"line\":{\"color\":\"#E5ECF6\",\"width\":0.5},\"pattern\":{\"fillmode\":\"overlay\",\"size\":10,\"solidity\":0.2}},\"type\":\"barpolar\"}],\"pie\":[{\"automargin\":true,\"type\":\"pie\"}]},\"layout\":{\"autotypenumbers\":\"strict\",\"colorway\":[\"#636efa\",\"#EF553B\",\"#00cc96\",\"#ab63fa\",\"#FFA15A\",\"#19d3f3\",\"#FF6692\",\"#B6E880\",\"#FF97FF\",\"#FECB52\"],\"font\":{\"color\":\"#2a3f5f\"},\"hovermode\":\"closest\",\"hoverlabel\":{\"align\":\"left\"},\"paper_bgcolor\":\"white\",\"plot_bgcolor\":\"#E5ECF6\",\"polar\":{\"bgcolor\":\"#E5ECF6\",\"angularaxis\":{\"gridcolor\":\"white\",\"linecolor\":\"white\",\"ticks\":\"\"},\"radialaxis\":{\"gridcolor\":\"white\",\"linecolor\":\"white\",\"ticks\":\"\"}},\"ternary\":{\"bgcolor\":\"#E5ECF6\",\"aaxis\":{\"gridcolor\":\"white\",\"linecolor\":\"white\",\"ticks\":\"\"},\"baxis\":{\"gridcolor\":\"white\",\"linecolor\":\"white\",\"ticks\":\"\"},\"caxis\":{\"gridcolor\":\"white\",\"linecolor\":\"white\",\"ticks\":\"\"}},\"coloraxis\":{\"colorbar\":{\"outlinewidth\":0,\"ticks\":\"\"}},\"colorscale\":{\"sequential\":[[0.0,\"#0d0887\"],[0.1111111111111111,\"#46039f\"],[0.2222222222222222,\"#7201a8\"],[0.3333333333333333,\"#9c179e\"],[0.4444444444444444,\"#bd3786\"],[0.5555555555555556,\"#d8576b\"],[0.6666666666666666,\"#ed7953\"],[0.7777777777777778,\"#fb9f3a\"],[0.8888888888888888,\"#fdca26\"],[1.0,\"#f0f921\"]],\"sequentialminus\":[[0.0,\"#0d0887\"],[0.1111111111111111,\"#46039f\"],[0.2222222222222222,\"#7201a8\"],[0.3333333333333333,\"#9c179e\"],[0.4444444444444444,\"#bd3786\"],[0.5555555555555556,\"#d8576b\"],[0.6666666666666666,\"#ed7953\"],[0.7777777777777778,\"#fb9f3a\"],[0.8888888888888888,\"#fdca26\"],[1.0,\"#f0f921\"]],\"diverging\":[[0,\"#8e0152\"],[0.1,\"#c51b7d\"],[0.2,\"#de77ae\"],[0.3,\"#f1b6da\"],[0.4,\"#fde0ef\"],[0.5,\"#f7f7f7\"],[0.6,\"#e6f5d0\"],[0.7,\"#b8e186\"],[0.8,\"#7fbc41\"],[0.9,\"#4d9221\"],[1,\"#276419\"]]},\"xaxis\":{\"gridcolor\":\"white\",\"linecolor\":\"white\",\"ticks\":\"\",\"title\":{\"standoff\":15},\"zerolinecolor\":\"white\",\"automargin\":true,\"zerolinewidth\":2},\"yaxis\":{\"gridcolor\":\"white\",\"linecolor\":\"white\",\"ticks\":\"\",\"title\":{\"standoff\":15},\"zerolinecolor\":\"white\",\"automargin\":true,\"zerolinewidth\":2},\"scene\":{\"xaxis\":{\"backgroundcolor\":\"#E5ECF6\",\"gridcolor\":\"white\",\"linecolor\":\"white\",\"showbackground\":true,\"ticks\":\"\",\"zerolinecolor\":\"white\",\"gridwidth\":2},\"yaxis\":{\"backgroundcolor\":\"#E5ECF6\",\"gridcolor\":\"white\",\"linecolor\":\"white\",\"showbackground\":true,\"ticks\":\"\",\"zerolinecolor\":\"white\",\"gridwidth\":2},\"zaxis\":{\"backgroundcolor\":\"#E5ECF6\",\"gridcolor\":\"white\",\"linecolor\":\"white\",\"showbackground\":true,\"ticks\":\"\",\"zerolinecolor\":\"white\",\"gridwidth\":2}},\"shapedefaults\":{\"line\":{\"color\":\"#2a3f5f\"}},\"annotationdefaults\":{\"arrowcolor\":\"#2a3f5f\",\"arrowhead\":0,\"arrowwidth\":1},\"geo\":{\"bgcolor\":\"white\",\"landcolor\":\"#E5ECF6\",\"subunitcolor\":\"white\",\"showland\":true,\"showlakes\":true,\"lakecolor\":\"white\"},\"title\":{\"x\":0.05},\"mapbox\":{\"style\":\"light\"}}}},                        {\"responsive\": true}                    ).then(function(){\n",
              "                            \n",
              "var gd = document.getElementById('b8acc988-035a-4809-b3e8-2588acc4e1fa');\n",
              "var x = new MutationObserver(function (mutations, observer) {{\n",
              "        var display = window.getComputedStyle(gd).display;\n",
              "        if (!display || display === 'none') {{\n",
              "            console.log([gd, 'removed!']);\n",
              "            Plotly.purge(gd);\n",
              "            observer.disconnect();\n",
              "        }}\n",
              "}});\n",
              "\n",
              "// Listen for the removal of the full notebook cells\n",
              "var notebookContainer = gd.closest('#notebook-container');\n",
              "if (notebookContainer) {{\n",
              "    x.observe(notebookContainer, {childList: true});\n",
              "}}\n",
              "\n",
              "// Listen for the clearing of the current output cell\n",
              "var outputEl = gd.closest('.output');\n",
              "if (outputEl) {{\n",
              "    x.observe(outputEl, {childList: true});\n",
              "}}\n",
              "\n",
              "                        })                };                            </script>        </div>\n",
              "</body>\n",
              "</html>"
            ]
          },
          "metadata": {}
        }
      ]
    },
    {
      "cell_type": "code",
      "source": [
        "# let's try an animation to see how long it takes to get to the uniform distribution across digits\n",
        "\n",
        "# first we'll need to add distributions for different cohorts of digits\n",
        "# 0 - 100, 0 - 1000, 0 - 10,000, 0 - 100,000, 0 - 1,000,000\n",
        "\n",
        "# create a df with a cohort column\n",
        "cohorts = ['0 - 10', '0 - 20', '0 - 30', '0 - 40', '0 - 50', '0 - 60', '0 - 70', '0 - 80', '0 - 90', '0 - 100', '0 - 1000', '0 - 10,000', '0 - 100,000', '0 - 1,000,000']\n",
        "cohort_max_digits = [10, 20, 30, 40, 50, 60, 70, 80, 90, 100, 1000, 10000, 100000, 1000000]\n",
        "cohort_distribution = []\n",
        "\n",
        "def get_digit_distribution( digits, cohort_name ):\n",
        "    digit_counts = {}\n",
        "    for digit in digits:\n",
        "        if digit in digit_counts:\n",
        "            digit_counts[digit] += 1\n",
        "        else:\n",
        "            digit_counts[digit] = 1\n",
        "    total_digits = sum( digit_counts.values() )\n",
        "\n",
        "    return [(cohort_name, key, value, 100*value/total_digits) for key, value in digit_counts.items() ]\n",
        "\n",
        "cohort_list = []\n",
        "for i in range( 0, len( cohorts)):\n",
        "    this_cohort = get_digit_distribution( pi_digits[0:cohort_max_digits[i]], cohorts[i] )\n",
        "    cohort_list.extend( this_cohort )\n",
        "\n",
        "print( cohort_list )\n",
        "\n",
        "# and create a dataframe\n",
        "cohorts_dist_df = pd.DataFrame(cohort_list, columns=['cohort', 'digit', 'count', 'percent'])\n",
        "print( \"cohorts_dist_df:\", cohorts_dist_df.head(100) )\n",
        "\n",
        "print( \"columns:\", cohorts_dist_df.columns )\n",
        "\n"
      ],
      "metadata": {
        "colab": {
          "base_uri": "https://localhost:8080/"
        },
        "id": "5pcLuHdr0Gb6",
        "outputId": "4c6f0236-e3b2-4a7a-93dc-035437897ece"
      },
      "execution_count": 13,
      "outputs": [
        {
          "output_type": "stream",
          "name": "stdout",
          "text": [
            "[('0 - 10', 3, 2, 20.0), ('0 - 10', 1, 2, 20.0), ('0 - 10', 4, 1, 10.0), ('0 - 10', 5, 2, 20.0), ('0 - 10', 9, 1, 10.0), ('0 - 10', 2, 1, 10.0), ('0 - 10', 6, 1, 10.0), ('0 - 20', 3, 4, 20.0), ('0 - 20', 1, 2, 10.0), ('0 - 20', 4, 2, 10.0), ('0 - 20', 5, 3, 15.0), ('0 - 20', 9, 3, 15.0), ('0 - 20', 2, 2, 10.0), ('0 - 20', 6, 1, 5.0), ('0 - 20', 8, 2, 10.0), ('0 - 20', 7, 1, 5.0), ('0 - 30', 3, 7, 23.333333333333332), ('0 - 30', 1, 2, 6.666666666666667), ('0 - 30', 4, 3, 10.0), ('0 - 30', 5, 3, 10.0), ('0 - 30', 9, 3, 10.0), ('0 - 30', 2, 4, 13.333333333333334), ('0 - 30', 6, 3, 10.0), ('0 - 30', 8, 3, 10.0), ('0 - 30', 7, 2, 6.666666666666667), ('0 - 40', 3, 7, 17.5), ('0 - 40', 1, 3, 7.5), ('0 - 40', 4, 4, 10.0), ('0 - 40', 5, 4, 10.0), ('0 - 40', 9, 5, 12.5), ('0 - 40', 2, 5, 12.5), ('0 - 40', 6, 3, 7.5), ('0 - 40', 8, 5, 12.5), ('0 - 40', 7, 3, 7.5), ('0 - 40', 0, 1, 2.5), ('0 - 50', 3, 9, 18.0), ('0 - 50', 1, 5, 10.0), ('0 - 50', 4, 4, 8.0), ('0 - 50', 5, 5, 10.0), ('0 - 50', 9, 8, 16.0), ('0 - 50', 2, 5, 10.0), ('0 - 50', 6, 4, 8.0), ('0 - 50', 8, 5, 10.0), ('0 - 50', 7, 4, 8.0), ('0 - 50', 0, 1, 2.0), ('0 - 60', 3, 9, 15.0), ('0 - 60', 1, 5, 8.333333333333334), ('0 - 60', 4, 6, 10.0), ('0 - 60', 5, 6, 10.0), ('0 - 60', 9, 10, 16.666666666666668), ('0 - 60', 2, 6, 10.0), ('0 - 60', 6, 4, 6.666666666666667), ('0 - 60', 8, 6, 10.0), ('0 - 60', 7, 5, 8.333333333333334), ('0 - 60', 0, 3, 5.0), ('0 - 70', 3, 10, 14.285714285714286), ('0 - 70', 1, 6, 8.571428571428571), ('0 - 70', 4, 7, 10.0), ('0 - 70', 5, 7, 10.0), ('0 - 70', 9, 11, 15.714285714285714), ('0 - 70', 2, 7, 10.0), ('0 - 70', 6, 5, 7.142857142857143), ('0 - 70', 8, 7, 10.0), ('0 - 70', 7, 6, 8.571428571428571), ('0 - 70', 0, 4, 5.714285714285714), ('0 - 80', 3, 10, 12.5), ('0 - 80', 1, 6, 7.5), ('0 - 80', 4, 8, 10.0), ('0 - 80', 5, 7, 8.75), ('0 - 80', 9, 12, 15.0), ('0 - 80', 2, 9, 11.25), ('0 - 80', 6, 7, 8.75), ('0 - 80', 8, 9, 11.25), ('0 - 80', 7, 6, 7.5), ('0 - 80', 0, 6, 7.5), ('0 - 90', 3, 11, 12.222222222222221), ('0 - 90', 1, 6, 6.666666666666667), ('0 - 90', 4, 9, 10.0), ('0 - 90', 5, 7, 7.777777777777778), ('0 - 90', 9, 13, 14.444444444444445), ('0 - 90', 2, 11, 12.222222222222221), ('0 - 90', 6, 8, 8.88888888888889), ('0 - 90', 8, 12, 13.333333333333334), ('0 - 90', 7, 6, 6.666666666666667), ('0 - 90', 0, 7, 7.777777777777778), ('0 - 100', 3, 12, 12.0), ('0 - 100', 1, 8, 8.0), ('0 - 100', 4, 10, 10.0), ('0 - 100', 5, 8, 8.0), ('0 - 100', 9, 13, 13.0), ('0 - 100', 2, 12, 12.0), ('0 - 100', 6, 9, 9.0), ('0 - 100', 8, 12, 12.0), ('0 - 100', 7, 8, 8.0), ('0 - 100', 0, 8, 8.0), ('0 - 1000', 3, 103, 10.3), ('0 - 1000', 1, 116, 11.6), ('0 - 1000', 4, 93, 9.3), ('0 - 1000', 5, 97, 9.7), ('0 - 1000', 9, 105, 10.5), ('0 - 1000', 2, 103, 10.3), ('0 - 1000', 6, 94, 9.4), ('0 - 1000', 8, 101, 10.1), ('0 - 1000', 7, 95, 9.5), ('0 - 1000', 0, 93, 9.3), ('0 - 10,000', 3, 975, 9.75), ('0 - 10,000', 1, 1026, 10.26), ('0 - 10,000', 4, 1012, 10.12), ('0 - 10,000', 5, 1046, 10.46), ('0 - 10,000', 9, 1014, 10.14), ('0 - 10,000', 2, 1021, 10.21), ('0 - 10,000', 6, 1021, 10.21), ('0 - 10,000', 8, 947, 9.47), ('0 - 10,000', 7, 970, 9.7), ('0 - 10,000', 0, 968, 9.68), ('0 - 100,000', 3, 10026, 10.026), ('0 - 100,000', 1, 10137, 10.137), ('0 - 100,000', 4, 9971, 9.971), ('0 - 100,000', 5, 10026, 10.026), ('0 - 100,000', 9, 9902, 9.902), ('0 - 100,000', 2, 9908, 9.908), ('0 - 100,000', 6, 10028, 10.028), ('0 - 100,000', 8, 9978, 9.978), ('0 - 100,000', 7, 10025, 10.025), ('0 - 100,000', 0, 9999, 9.999), ('0 - 1,000,000', 3, 100230, 10.023), ('0 - 1,000,000', 1, 99757, 9.9757), ('0 - 1,000,000', 4, 100230, 10.023), ('0 - 1,000,000', 5, 100359, 10.0359), ('0 - 1,000,000', 9, 100106, 10.0106), ('0 - 1,000,000', 2, 100026, 10.0026), ('0 - 1,000,000', 6, 99548, 9.9548), ('0 - 1,000,000', 8, 99985, 9.9985), ('0 - 1,000,000', 7, 99800, 9.98), ('0 - 1,000,000', 0, 99959, 9.9959)]\n",
            "cohorts_dist_df:       cohort  digit  count  percent\n",
            "0     0 - 10      3      2     20.0\n",
            "1     0 - 10      1      2     20.0\n",
            "2     0 - 10      4      1     10.0\n",
            "3     0 - 10      5      2     20.0\n",
            "4     0 - 10      9      1     10.0\n",
            "..       ...    ...    ...      ...\n",
            "95  0 - 1000      3    103     10.3\n",
            "96  0 - 1000      1    116     11.6\n",
            "97  0 - 1000      4     93      9.3\n",
            "98  0 - 1000      5     97      9.7\n",
            "99  0 - 1000      9    105     10.5\n",
            "\n",
            "[100 rows x 4 columns]\n",
            "columns: Index(['cohort', 'digit', 'count', 'percent'], dtype='object')\n"
          ]
        }
      ]
    },
    {
      "cell_type": "code",
      "source": [
        "# let's try an animation to see how long it takes to get to the uniform distribution across digits\n",
        "\n",
        "\n",
        "fig = px.bar(cohorts_dist_df,\n",
        "             x=\"digit\",\n",
        "             y=\"percent\",\n",
        "             color=\"digit\",\n",
        "             width=1000, height=800,\n",
        "             animation_frame=\"cohort\", animation_group=\"digit\", range_y=[0,30], title=\"Distribution for the First 100 Digits of \" + piName\n",
        "             )\n",
        "fig.update_xaxes(\n",
        "                title=\"Digits ( 0 - 9)\",\n",
        "                tickmode = 'array',\n",
        "                tickvals = piDigitsLabels\n",
        "             )\n",
        "\n",
        "fig.update_yaxes(\n",
        "                title=\"Percent of Totals\"\n",
        "             )\n",
        "\n",
        "fig.show()"
      ],
      "metadata": {
        "colab": {
          "base_uri": "https://localhost:8080/",
          "height": 817
        },
        "id": "mp87tnVEzRp4",
        "outputId": "60650917-3a43-4b77-eb36-afa9a62f3bcc"
      },
      "execution_count": 79,
      "outputs": [
        {
          "output_type": "display_data",
          "data": {
            "text/html": [
              "<html>\n",
              "<head><meta charset=\"utf-8\" /></head>\n",
              "<body>\n",
              "    <div>            <script src=\"https://cdnjs.cloudflare.com/ajax/libs/mathjax/2.7.5/MathJax.js?config=TeX-AMS-MML_SVG\"></script><script type=\"text/javascript\">if (window.MathJax && window.MathJax.Hub && window.MathJax.Hub.Config) {window.MathJax.Hub.Config({SVG: {font: \"STIX-Web\"}});}</script>                <script type=\"text/javascript\">window.PlotlyConfig = {MathJaxConfig: 'local'};</script>\n",
              "        <script charset=\"utf-8\" src=\"https://cdn.plot.ly/plotly-2.35.2.min.js\"></script>                <div id=\"076ceb52-4888-4721-938e-7ba1557e6221\" class=\"plotly-graph-div\" style=\"height:800px; width:1000px;\"></div>            <script type=\"text/javascript\">                                    window.PLOTLYENV=window.PLOTLYENV || {};                                    if (document.getElementById(\"076ceb52-4888-4721-938e-7ba1557e6221\")) {                    Plotly.newPlot(                        \"076ceb52-4888-4721-938e-7ba1557e6221\",                        [{\"alignmentgroup\":\"True\",\"hovertemplate\":\"cohort=0 - 10\\u003cbr\\u003edigit=%{marker.color}\\u003cbr\\u003epercent=%{y}\\u003cextra\\u003e\\u003c\\u002fextra\\u003e\",\"ids\":[3,1,4,5,9,2,6],\"legendgroup\":\"\",\"marker\":{\"color\":[3,1,4,5,9,2,6],\"coloraxis\":\"coloraxis\",\"pattern\":{\"shape\":\"\"}},\"name\":\"\",\"offsetgroup\":\"\",\"orientation\":\"v\",\"showlegend\":false,\"textposition\":\"auto\",\"x\":[3,1,4,5,9,2,6],\"xaxis\":\"x\",\"y\":[20.0,20.0,10.0,20.0,10.0,10.0,10.0],\"yaxis\":\"y\",\"type\":\"bar\"}],                        {\"template\":{\"data\":{\"histogram2dcontour\":[{\"type\":\"histogram2dcontour\",\"colorbar\":{\"outlinewidth\":0,\"ticks\":\"\"},\"colorscale\":[[0.0,\"#0d0887\"],[0.1111111111111111,\"#46039f\"],[0.2222222222222222,\"#7201a8\"],[0.3333333333333333,\"#9c179e\"],[0.4444444444444444,\"#bd3786\"],[0.5555555555555556,\"#d8576b\"],[0.6666666666666666,\"#ed7953\"],[0.7777777777777778,\"#fb9f3a\"],[0.8888888888888888,\"#fdca26\"],[1.0,\"#f0f921\"]]}],\"choropleth\":[{\"type\":\"choropleth\",\"colorbar\":{\"outlinewidth\":0,\"ticks\":\"\"}}],\"histogram2d\":[{\"type\":\"histogram2d\",\"colorbar\":{\"outlinewidth\":0,\"ticks\":\"\"},\"colorscale\":[[0.0,\"#0d0887\"],[0.1111111111111111,\"#46039f\"],[0.2222222222222222,\"#7201a8\"],[0.3333333333333333,\"#9c179e\"],[0.4444444444444444,\"#bd3786\"],[0.5555555555555556,\"#d8576b\"],[0.6666666666666666,\"#ed7953\"],[0.7777777777777778,\"#fb9f3a\"],[0.8888888888888888,\"#fdca26\"],[1.0,\"#f0f921\"]]}],\"heatmap\":[{\"type\":\"heatmap\",\"colorbar\":{\"outlinewidth\":0,\"ticks\":\"\"},\"colorscale\":[[0.0,\"#0d0887\"],[0.1111111111111111,\"#46039f\"],[0.2222222222222222,\"#7201a8\"],[0.3333333333333333,\"#9c179e\"],[0.4444444444444444,\"#bd3786\"],[0.5555555555555556,\"#d8576b\"],[0.6666666666666666,\"#ed7953\"],[0.7777777777777778,\"#fb9f3a\"],[0.8888888888888888,\"#fdca26\"],[1.0,\"#f0f921\"]]}],\"heatmapgl\":[{\"type\":\"heatmapgl\",\"colorbar\":{\"outlinewidth\":0,\"ticks\":\"\"},\"colorscale\":[[0.0,\"#0d0887\"],[0.1111111111111111,\"#46039f\"],[0.2222222222222222,\"#7201a8\"],[0.3333333333333333,\"#9c179e\"],[0.4444444444444444,\"#bd3786\"],[0.5555555555555556,\"#d8576b\"],[0.6666666666666666,\"#ed7953\"],[0.7777777777777778,\"#fb9f3a\"],[0.8888888888888888,\"#fdca26\"],[1.0,\"#f0f921\"]]}],\"contourcarpet\":[{\"type\":\"contourcarpet\",\"colorbar\":{\"outlinewidth\":0,\"ticks\":\"\"}}],\"contour\":[{\"type\":\"contour\",\"colorbar\":{\"outlinewidth\":0,\"ticks\":\"\"},\"colorscale\":[[0.0,\"#0d0887\"],[0.1111111111111111,\"#46039f\"],[0.2222222222222222,\"#7201a8\"],[0.3333333333333333,\"#9c179e\"],[0.4444444444444444,\"#bd3786\"],[0.5555555555555556,\"#d8576b\"],[0.6666666666666666,\"#ed7953\"],[0.7777777777777778,\"#fb9f3a\"],[0.8888888888888888,\"#fdca26\"],[1.0,\"#f0f921\"]]}],\"surface\":[{\"type\":\"surface\",\"colorbar\":{\"outlinewidth\":0,\"ticks\":\"\"},\"colorscale\":[[0.0,\"#0d0887\"],[0.1111111111111111,\"#46039f\"],[0.2222222222222222,\"#7201a8\"],[0.3333333333333333,\"#9c179e\"],[0.4444444444444444,\"#bd3786\"],[0.5555555555555556,\"#d8576b\"],[0.6666666666666666,\"#ed7953\"],[0.7777777777777778,\"#fb9f3a\"],[0.8888888888888888,\"#fdca26\"],[1.0,\"#f0f921\"]]}],\"mesh3d\":[{\"type\":\"mesh3d\",\"colorbar\":{\"outlinewidth\":0,\"ticks\":\"\"}}],\"scatter\":[{\"fillpattern\":{\"fillmode\":\"overlay\",\"size\":10,\"solidity\":0.2},\"type\":\"scatter\"}],\"parcoords\":[{\"type\":\"parcoords\",\"line\":{\"colorbar\":{\"outlinewidth\":0,\"ticks\":\"\"}}}],\"scatterpolargl\":[{\"type\":\"scatterpolargl\",\"marker\":{\"colorbar\":{\"outlinewidth\":0,\"ticks\":\"\"}}}],\"bar\":[{\"error_x\":{\"color\":\"#2a3f5f\"},\"error_y\":{\"color\":\"#2a3f5f\"},\"marker\":{\"line\":{\"color\":\"#E5ECF6\",\"width\":0.5},\"pattern\":{\"fillmode\":\"overlay\",\"size\":10,\"solidity\":0.2}},\"type\":\"bar\"}],\"scattergeo\":[{\"type\":\"scattergeo\",\"marker\":{\"colorbar\":{\"outlinewidth\":0,\"ticks\":\"\"}}}],\"scatterpolar\":[{\"type\":\"scatterpolar\",\"marker\":{\"colorbar\":{\"outlinewidth\":0,\"ticks\":\"\"}}}],\"histogram\":[{\"marker\":{\"pattern\":{\"fillmode\":\"overlay\",\"size\":10,\"solidity\":0.2}},\"type\":\"histogram\"}],\"scattergl\":[{\"type\":\"scattergl\",\"marker\":{\"colorbar\":{\"outlinewidth\":0,\"ticks\":\"\"}}}],\"scatter3d\":[{\"type\":\"scatter3d\",\"line\":{\"colorbar\":{\"outlinewidth\":0,\"ticks\":\"\"}},\"marker\":{\"colorbar\":{\"outlinewidth\":0,\"ticks\":\"\"}}}],\"scattermapbox\":[{\"type\":\"scattermapbox\",\"marker\":{\"colorbar\":{\"outlinewidth\":0,\"ticks\":\"\"}}}],\"scatterternary\":[{\"type\":\"scatterternary\",\"marker\":{\"colorbar\":{\"outlinewidth\":0,\"ticks\":\"\"}}}],\"scattercarpet\":[{\"type\":\"scattercarpet\",\"marker\":{\"colorbar\":{\"outlinewidth\":0,\"ticks\":\"\"}}}],\"carpet\":[{\"aaxis\":{\"endlinecolor\":\"#2a3f5f\",\"gridcolor\":\"white\",\"linecolor\":\"white\",\"minorgridcolor\":\"white\",\"startlinecolor\":\"#2a3f5f\"},\"baxis\":{\"endlinecolor\":\"#2a3f5f\",\"gridcolor\":\"white\",\"linecolor\":\"white\",\"minorgridcolor\":\"white\",\"startlinecolor\":\"#2a3f5f\"},\"type\":\"carpet\"}],\"table\":[{\"cells\":{\"fill\":{\"color\":\"#EBF0F8\"},\"line\":{\"color\":\"white\"}},\"header\":{\"fill\":{\"color\":\"#C8D4E3\"},\"line\":{\"color\":\"white\"}},\"type\":\"table\"}],\"barpolar\":[{\"marker\":{\"line\":{\"color\":\"#E5ECF6\",\"width\":0.5},\"pattern\":{\"fillmode\":\"overlay\",\"size\":10,\"solidity\":0.2}},\"type\":\"barpolar\"}],\"pie\":[{\"automargin\":true,\"type\":\"pie\"}]},\"layout\":{\"autotypenumbers\":\"strict\",\"colorway\":[\"#636efa\",\"#EF553B\",\"#00cc96\",\"#ab63fa\",\"#FFA15A\",\"#19d3f3\",\"#FF6692\",\"#B6E880\",\"#FF97FF\",\"#FECB52\"],\"font\":{\"color\":\"#2a3f5f\"},\"hovermode\":\"closest\",\"hoverlabel\":{\"align\":\"left\"},\"paper_bgcolor\":\"white\",\"plot_bgcolor\":\"#E5ECF6\",\"polar\":{\"bgcolor\":\"#E5ECF6\",\"angularaxis\":{\"gridcolor\":\"white\",\"linecolor\":\"white\",\"ticks\":\"\"},\"radialaxis\":{\"gridcolor\":\"white\",\"linecolor\":\"white\",\"ticks\":\"\"}},\"ternary\":{\"bgcolor\":\"#E5ECF6\",\"aaxis\":{\"gridcolor\":\"white\",\"linecolor\":\"white\",\"ticks\":\"\"},\"baxis\":{\"gridcolor\":\"white\",\"linecolor\":\"white\",\"ticks\":\"\"},\"caxis\":{\"gridcolor\":\"white\",\"linecolor\":\"white\",\"ticks\":\"\"}},\"coloraxis\":{\"colorbar\":{\"outlinewidth\":0,\"ticks\":\"\"}},\"colorscale\":{\"sequential\":[[0.0,\"#0d0887\"],[0.1111111111111111,\"#46039f\"],[0.2222222222222222,\"#7201a8\"],[0.3333333333333333,\"#9c179e\"],[0.4444444444444444,\"#bd3786\"],[0.5555555555555556,\"#d8576b\"],[0.6666666666666666,\"#ed7953\"],[0.7777777777777778,\"#fb9f3a\"],[0.8888888888888888,\"#fdca26\"],[1.0,\"#f0f921\"]],\"sequentialminus\":[[0.0,\"#0d0887\"],[0.1111111111111111,\"#46039f\"],[0.2222222222222222,\"#7201a8\"],[0.3333333333333333,\"#9c179e\"],[0.4444444444444444,\"#bd3786\"],[0.5555555555555556,\"#d8576b\"],[0.6666666666666666,\"#ed7953\"],[0.7777777777777778,\"#fb9f3a\"],[0.8888888888888888,\"#fdca26\"],[1.0,\"#f0f921\"]],\"diverging\":[[0,\"#8e0152\"],[0.1,\"#c51b7d\"],[0.2,\"#de77ae\"],[0.3,\"#f1b6da\"],[0.4,\"#fde0ef\"],[0.5,\"#f7f7f7\"],[0.6,\"#e6f5d0\"],[0.7,\"#b8e186\"],[0.8,\"#7fbc41\"],[0.9,\"#4d9221\"],[1,\"#276419\"]]},\"xaxis\":{\"gridcolor\":\"white\",\"linecolor\":\"white\",\"ticks\":\"\",\"title\":{\"standoff\":15},\"zerolinecolor\":\"white\",\"automargin\":true,\"zerolinewidth\":2},\"yaxis\":{\"gridcolor\":\"white\",\"linecolor\":\"white\",\"ticks\":\"\",\"title\":{\"standoff\":15},\"zerolinecolor\":\"white\",\"automargin\":true,\"zerolinewidth\":2},\"scene\":{\"xaxis\":{\"backgroundcolor\":\"#E5ECF6\",\"gridcolor\":\"white\",\"linecolor\":\"white\",\"showbackground\":true,\"ticks\":\"\",\"zerolinecolor\":\"white\",\"gridwidth\":2},\"yaxis\":{\"backgroundcolor\":\"#E5ECF6\",\"gridcolor\":\"white\",\"linecolor\":\"white\",\"showbackground\":true,\"ticks\":\"\",\"zerolinecolor\":\"white\",\"gridwidth\":2},\"zaxis\":{\"backgroundcolor\":\"#E5ECF6\",\"gridcolor\":\"white\",\"linecolor\":\"white\",\"showbackground\":true,\"ticks\":\"\",\"zerolinecolor\":\"white\",\"gridwidth\":2}},\"shapedefaults\":{\"line\":{\"color\":\"#2a3f5f\"}},\"annotationdefaults\":{\"arrowcolor\":\"#2a3f5f\",\"arrowhead\":0,\"arrowwidth\":1},\"geo\":{\"bgcolor\":\"white\",\"landcolor\":\"#E5ECF6\",\"subunitcolor\":\"white\",\"showland\":true,\"showlakes\":true,\"lakecolor\":\"white\"},\"title\":{\"x\":0.05},\"mapbox\":{\"style\":\"light\"}}},\"xaxis\":{\"anchor\":\"y\",\"domain\":[0.0,1.0],\"title\":{\"text\":\"Digits ( 0 - 9)\"},\"tickmode\":\"array\",\"tickvals\":[\"0\",\"1\",\"2\",\"3\",\"4\",\"5\",\"6\",\"7\",\"8\",\"9\"]},\"yaxis\":{\"anchor\":\"x\",\"domain\":[0.0,1.0],\"title\":{\"text\":\"Percent of Totals\"},\"range\":[0,30]},\"coloraxis\":{\"colorbar\":{\"title\":{\"text\":\"digit\"}},\"colorscale\":[[0.0,\"#0d0887\"],[0.1111111111111111,\"#46039f\"],[0.2222222222222222,\"#7201a8\"],[0.3333333333333333,\"#9c179e\"],[0.4444444444444444,\"#bd3786\"],[0.5555555555555556,\"#d8576b\"],[0.6666666666666666,\"#ed7953\"],[0.7777777777777778,\"#fb9f3a\"],[0.8888888888888888,\"#fdca26\"],[1.0,\"#f0f921\"]]},\"legend\":{\"tracegroupgap\":0},\"title\":{\"text\":\"Distribution for the First 100 Digits of Π\"},\"barmode\":\"relative\",\"height\":800,\"width\":1000,\"updatemenus\":[{\"buttons\":[{\"args\":[null,{\"frame\":{\"duration\":500,\"redraw\":true},\"mode\":\"immediate\",\"fromcurrent\":true,\"transition\":{\"duration\":500,\"easing\":\"linear\"}}],\"label\":\"&#9654;\",\"method\":\"animate\"},{\"args\":[[null],{\"frame\":{\"duration\":0,\"redraw\":true},\"mode\":\"immediate\",\"fromcurrent\":true,\"transition\":{\"duration\":0,\"easing\":\"linear\"}}],\"label\":\"&#9724;\",\"method\":\"animate\"}],\"direction\":\"left\",\"pad\":{\"r\":10,\"t\":70},\"showactive\":false,\"type\":\"buttons\",\"x\":0.1,\"xanchor\":\"right\",\"y\":0,\"yanchor\":\"top\"}],\"sliders\":[{\"active\":0,\"currentvalue\":{\"prefix\":\"cohort=\"},\"len\":0.9,\"pad\":{\"b\":10,\"t\":60},\"steps\":[{\"args\":[[\"0 - 10\"],{\"frame\":{\"duration\":0,\"redraw\":true},\"mode\":\"immediate\",\"fromcurrent\":true,\"transition\":{\"duration\":0,\"easing\":\"linear\"}}],\"label\":\"0 - 10\",\"method\":\"animate\"},{\"args\":[[\"0 - 20\"],{\"frame\":{\"duration\":0,\"redraw\":true},\"mode\":\"immediate\",\"fromcurrent\":true,\"transition\":{\"duration\":0,\"easing\":\"linear\"}}],\"label\":\"0 - 20\",\"method\":\"animate\"},{\"args\":[[\"0 - 30\"],{\"frame\":{\"duration\":0,\"redraw\":true},\"mode\":\"immediate\",\"fromcurrent\":true,\"transition\":{\"duration\":0,\"easing\":\"linear\"}}],\"label\":\"0 - 30\",\"method\":\"animate\"},{\"args\":[[\"0 - 40\"],{\"frame\":{\"duration\":0,\"redraw\":true},\"mode\":\"immediate\",\"fromcurrent\":true,\"transition\":{\"duration\":0,\"easing\":\"linear\"}}],\"label\":\"0 - 40\",\"method\":\"animate\"},{\"args\":[[\"0 - 50\"],{\"frame\":{\"duration\":0,\"redraw\":true},\"mode\":\"immediate\",\"fromcurrent\":true,\"transition\":{\"duration\":0,\"easing\":\"linear\"}}],\"label\":\"0 - 50\",\"method\":\"animate\"},{\"args\":[[\"0 - 60\"],{\"frame\":{\"duration\":0,\"redraw\":true},\"mode\":\"immediate\",\"fromcurrent\":true,\"transition\":{\"duration\":0,\"easing\":\"linear\"}}],\"label\":\"0 - 60\",\"method\":\"animate\"},{\"args\":[[\"0 - 70\"],{\"frame\":{\"duration\":0,\"redraw\":true},\"mode\":\"immediate\",\"fromcurrent\":true,\"transition\":{\"duration\":0,\"easing\":\"linear\"}}],\"label\":\"0 - 70\",\"method\":\"animate\"},{\"args\":[[\"0 - 80\"],{\"frame\":{\"duration\":0,\"redraw\":true},\"mode\":\"immediate\",\"fromcurrent\":true,\"transition\":{\"duration\":0,\"easing\":\"linear\"}}],\"label\":\"0 - 80\",\"method\":\"animate\"},{\"args\":[[\"0 - 90\"],{\"frame\":{\"duration\":0,\"redraw\":true},\"mode\":\"immediate\",\"fromcurrent\":true,\"transition\":{\"duration\":0,\"easing\":\"linear\"}}],\"label\":\"0 - 90\",\"method\":\"animate\"},{\"args\":[[\"0 - 100\"],{\"frame\":{\"duration\":0,\"redraw\":true},\"mode\":\"immediate\",\"fromcurrent\":true,\"transition\":{\"duration\":0,\"easing\":\"linear\"}}],\"label\":\"0 - 100\",\"method\":\"animate\"},{\"args\":[[\"0 - 1000\"],{\"frame\":{\"duration\":0,\"redraw\":true},\"mode\":\"immediate\",\"fromcurrent\":true,\"transition\":{\"duration\":0,\"easing\":\"linear\"}}],\"label\":\"0 - 1000\",\"method\":\"animate\"},{\"args\":[[\"0 - 10,000\"],{\"frame\":{\"duration\":0,\"redraw\":true},\"mode\":\"immediate\",\"fromcurrent\":true,\"transition\":{\"duration\":0,\"easing\":\"linear\"}}],\"label\":\"0 - 10,000\",\"method\":\"animate\"},{\"args\":[[\"0 - 100,000\"],{\"frame\":{\"duration\":0,\"redraw\":true},\"mode\":\"immediate\",\"fromcurrent\":true,\"transition\":{\"duration\":0,\"easing\":\"linear\"}}],\"label\":\"0 - 100,000\",\"method\":\"animate\"},{\"args\":[[\"0 - 1,000,000\"],{\"frame\":{\"duration\":0,\"redraw\":true},\"mode\":\"immediate\",\"fromcurrent\":true,\"transition\":{\"duration\":0,\"easing\":\"linear\"}}],\"label\":\"0 - 1,000,000\",\"method\":\"animate\"}],\"x\":0.1,\"xanchor\":\"left\",\"y\":0,\"yanchor\":\"top\"}]},                        {\"responsive\": true}                    ).then(function(){\n",
              "                            Plotly.addFrames('076ceb52-4888-4721-938e-7ba1557e6221', [{\"data\":[{\"alignmentgroup\":\"True\",\"hovertemplate\":\"cohort=0 - 10\\u003cbr\\u003edigit=%{marker.color}\\u003cbr\\u003epercent=%{y}\\u003cextra\\u003e\\u003c\\u002fextra\\u003e\",\"ids\":[3,1,4,5,9,2,6],\"legendgroup\":\"\",\"marker\":{\"color\":[3,1,4,5,9,2,6],\"coloraxis\":\"coloraxis\",\"pattern\":{\"shape\":\"\"}},\"name\":\"\",\"offsetgroup\":\"\",\"orientation\":\"v\",\"showlegend\":false,\"textposition\":\"auto\",\"x\":[3,1,4,5,9,2,6],\"xaxis\":\"x\",\"y\":[20.0,20.0,10.0,20.0,10.0,10.0,10.0],\"yaxis\":\"y\",\"type\":\"bar\"}],\"name\":\"0 - 10\"},{\"data\":[{\"alignmentgroup\":\"True\",\"hovertemplate\":\"cohort=0 - 20\\u003cbr\\u003edigit=%{marker.color}\\u003cbr\\u003epercent=%{y}\\u003cextra\\u003e\\u003c\\u002fextra\\u003e\",\"ids\":[3,1,4,5,9,2,6,8,7],\"legendgroup\":\"\",\"marker\":{\"color\":[3,1,4,5,9,2,6,8,7],\"coloraxis\":\"coloraxis\",\"pattern\":{\"shape\":\"\"}},\"name\":\"\",\"offsetgroup\":\"\",\"orientation\":\"v\",\"showlegend\":false,\"textposition\":\"auto\",\"x\":[3,1,4,5,9,2,6,8,7],\"xaxis\":\"x\",\"y\":[20.0,10.0,10.0,15.0,15.0,10.0,5.0,10.0,5.0],\"yaxis\":\"y\",\"type\":\"bar\"}],\"name\":\"0 - 20\"},{\"data\":[{\"alignmentgroup\":\"True\",\"hovertemplate\":\"cohort=0 - 30\\u003cbr\\u003edigit=%{marker.color}\\u003cbr\\u003epercent=%{y}\\u003cextra\\u003e\\u003c\\u002fextra\\u003e\",\"ids\":[3,1,4,5,9,2,6,8,7],\"legendgroup\":\"\",\"marker\":{\"color\":[3,1,4,5,9,2,6,8,7],\"coloraxis\":\"coloraxis\",\"pattern\":{\"shape\":\"\"}},\"name\":\"\",\"offsetgroup\":\"\",\"orientation\":\"v\",\"showlegend\":false,\"textposition\":\"auto\",\"x\":[3,1,4,5,9,2,6,8,7],\"xaxis\":\"x\",\"y\":[23.333333333333332,6.666666666666667,10.0,10.0,10.0,13.333333333333334,10.0,10.0,6.666666666666667],\"yaxis\":\"y\",\"type\":\"bar\"}],\"name\":\"0 - 30\"},{\"data\":[{\"alignmentgroup\":\"True\",\"hovertemplate\":\"cohort=0 - 40\\u003cbr\\u003edigit=%{marker.color}\\u003cbr\\u003epercent=%{y}\\u003cextra\\u003e\\u003c\\u002fextra\\u003e\",\"ids\":[3,1,4,5,9,2,6,8,7,0],\"legendgroup\":\"\",\"marker\":{\"color\":[3,1,4,5,9,2,6,8,7,0],\"coloraxis\":\"coloraxis\",\"pattern\":{\"shape\":\"\"}},\"name\":\"\",\"offsetgroup\":\"\",\"orientation\":\"v\",\"showlegend\":false,\"textposition\":\"auto\",\"x\":[3,1,4,5,9,2,6,8,7,0],\"xaxis\":\"x\",\"y\":[17.5,7.5,10.0,10.0,12.5,12.5,7.5,12.5,7.5,2.5],\"yaxis\":\"y\",\"type\":\"bar\"}],\"name\":\"0 - 40\"},{\"data\":[{\"alignmentgroup\":\"True\",\"hovertemplate\":\"cohort=0 - 50\\u003cbr\\u003edigit=%{marker.color}\\u003cbr\\u003epercent=%{y}\\u003cextra\\u003e\\u003c\\u002fextra\\u003e\",\"ids\":[3,1,4,5,9,2,6,8,7,0],\"legendgroup\":\"\",\"marker\":{\"color\":[3,1,4,5,9,2,6,8,7,0],\"coloraxis\":\"coloraxis\",\"pattern\":{\"shape\":\"\"}},\"name\":\"\",\"offsetgroup\":\"\",\"orientation\":\"v\",\"showlegend\":false,\"textposition\":\"auto\",\"x\":[3,1,4,5,9,2,6,8,7,0],\"xaxis\":\"x\",\"y\":[18.0,10.0,8.0,10.0,16.0,10.0,8.0,10.0,8.0,2.0],\"yaxis\":\"y\",\"type\":\"bar\"}],\"name\":\"0 - 50\"},{\"data\":[{\"alignmentgroup\":\"True\",\"hovertemplate\":\"cohort=0 - 60\\u003cbr\\u003edigit=%{marker.color}\\u003cbr\\u003epercent=%{y}\\u003cextra\\u003e\\u003c\\u002fextra\\u003e\",\"ids\":[3,1,4,5,9,2,6,8,7,0],\"legendgroup\":\"\",\"marker\":{\"color\":[3,1,4,5,9,2,6,8,7,0],\"coloraxis\":\"coloraxis\",\"pattern\":{\"shape\":\"\"}},\"name\":\"\",\"offsetgroup\":\"\",\"orientation\":\"v\",\"showlegend\":false,\"textposition\":\"auto\",\"x\":[3,1,4,5,9,2,6,8,7,0],\"xaxis\":\"x\",\"y\":[15.0,8.333333333333334,10.0,10.0,16.666666666666668,10.0,6.666666666666667,10.0,8.333333333333334,5.0],\"yaxis\":\"y\",\"type\":\"bar\"}],\"name\":\"0 - 60\"},{\"data\":[{\"alignmentgroup\":\"True\",\"hovertemplate\":\"cohort=0 - 70\\u003cbr\\u003edigit=%{marker.color}\\u003cbr\\u003epercent=%{y}\\u003cextra\\u003e\\u003c\\u002fextra\\u003e\",\"ids\":[3,1,4,5,9,2,6,8,7,0],\"legendgroup\":\"\",\"marker\":{\"color\":[3,1,4,5,9,2,6,8,7,0],\"coloraxis\":\"coloraxis\",\"pattern\":{\"shape\":\"\"}},\"name\":\"\",\"offsetgroup\":\"\",\"orientation\":\"v\",\"showlegend\":false,\"textposition\":\"auto\",\"x\":[3,1,4,5,9,2,6,8,7,0],\"xaxis\":\"x\",\"y\":[14.285714285714286,8.571428571428571,10.0,10.0,15.714285714285714,10.0,7.142857142857143,10.0,8.571428571428571,5.714285714285714],\"yaxis\":\"y\",\"type\":\"bar\"}],\"name\":\"0 - 70\"},{\"data\":[{\"alignmentgroup\":\"True\",\"hovertemplate\":\"cohort=0 - 80\\u003cbr\\u003edigit=%{marker.color}\\u003cbr\\u003epercent=%{y}\\u003cextra\\u003e\\u003c\\u002fextra\\u003e\",\"ids\":[3,1,4,5,9,2,6,8,7,0],\"legendgroup\":\"\",\"marker\":{\"color\":[3,1,4,5,9,2,6,8,7,0],\"coloraxis\":\"coloraxis\",\"pattern\":{\"shape\":\"\"}},\"name\":\"\",\"offsetgroup\":\"\",\"orientation\":\"v\",\"showlegend\":false,\"textposition\":\"auto\",\"x\":[3,1,4,5,9,2,6,8,7,0],\"xaxis\":\"x\",\"y\":[12.5,7.5,10.0,8.75,15.0,11.25,8.75,11.25,7.5,7.5],\"yaxis\":\"y\",\"type\":\"bar\"}],\"name\":\"0 - 80\"},{\"data\":[{\"alignmentgroup\":\"True\",\"hovertemplate\":\"cohort=0 - 90\\u003cbr\\u003edigit=%{marker.color}\\u003cbr\\u003epercent=%{y}\\u003cextra\\u003e\\u003c\\u002fextra\\u003e\",\"ids\":[3,1,4,5,9,2,6,8,7,0],\"legendgroup\":\"\",\"marker\":{\"color\":[3,1,4,5,9,2,6,8,7,0],\"coloraxis\":\"coloraxis\",\"pattern\":{\"shape\":\"\"}},\"name\":\"\",\"offsetgroup\":\"\",\"orientation\":\"v\",\"showlegend\":false,\"textposition\":\"auto\",\"x\":[3,1,4,5,9,2,6,8,7,0],\"xaxis\":\"x\",\"y\":[12.222222222222221,6.666666666666667,10.0,7.777777777777778,14.444444444444445,12.222222222222221,8.88888888888889,13.333333333333334,6.666666666666667,7.777777777777778],\"yaxis\":\"y\",\"type\":\"bar\"}],\"name\":\"0 - 90\"},{\"data\":[{\"alignmentgroup\":\"True\",\"hovertemplate\":\"cohort=0 - 100\\u003cbr\\u003edigit=%{marker.color}\\u003cbr\\u003epercent=%{y}\\u003cextra\\u003e\\u003c\\u002fextra\\u003e\",\"ids\":[3,1,4,5,9,2,6,8,7,0],\"legendgroup\":\"\",\"marker\":{\"color\":[3,1,4,5,9,2,6,8,7,0],\"coloraxis\":\"coloraxis\",\"pattern\":{\"shape\":\"\"}},\"name\":\"\",\"offsetgroup\":\"\",\"orientation\":\"v\",\"showlegend\":false,\"textposition\":\"auto\",\"x\":[3,1,4,5,9,2,6,8,7,0],\"xaxis\":\"x\",\"y\":[12.0,8.0,10.0,8.0,13.0,12.0,9.0,12.0,8.0,8.0],\"yaxis\":\"y\",\"type\":\"bar\"}],\"name\":\"0 - 100\"},{\"data\":[{\"alignmentgroup\":\"True\",\"hovertemplate\":\"cohort=0 - 1000\\u003cbr\\u003edigit=%{marker.color}\\u003cbr\\u003epercent=%{y}\\u003cextra\\u003e\\u003c\\u002fextra\\u003e\",\"ids\":[3,1,4,5,9,2,6,8,7,0],\"legendgroup\":\"\",\"marker\":{\"color\":[3,1,4,5,9,2,6,8,7,0],\"coloraxis\":\"coloraxis\",\"pattern\":{\"shape\":\"\"}},\"name\":\"\",\"offsetgroup\":\"\",\"orientation\":\"v\",\"showlegend\":false,\"textposition\":\"auto\",\"x\":[3,1,4,5,9,2,6,8,7,0],\"xaxis\":\"x\",\"y\":[10.3,11.6,9.3,9.7,10.5,10.3,9.4,10.1,9.5,9.3],\"yaxis\":\"y\",\"type\":\"bar\"}],\"name\":\"0 - 1000\"},{\"data\":[{\"alignmentgroup\":\"True\",\"hovertemplate\":\"cohort=0 - 10,000\\u003cbr\\u003edigit=%{marker.color}\\u003cbr\\u003epercent=%{y}\\u003cextra\\u003e\\u003c\\u002fextra\\u003e\",\"ids\":[3,1,4,5,9,2,6,8,7,0],\"legendgroup\":\"\",\"marker\":{\"color\":[3,1,4,5,9,2,6,8,7,0],\"coloraxis\":\"coloraxis\",\"pattern\":{\"shape\":\"\"}},\"name\":\"\",\"offsetgroup\":\"\",\"orientation\":\"v\",\"showlegend\":false,\"textposition\":\"auto\",\"x\":[3,1,4,5,9,2,6,8,7,0],\"xaxis\":\"x\",\"y\":[9.75,10.26,10.12,10.46,10.14,10.21,10.21,9.47,9.7,9.68],\"yaxis\":\"y\",\"type\":\"bar\"}],\"name\":\"0 - 10,000\"},{\"data\":[{\"alignmentgroup\":\"True\",\"hovertemplate\":\"cohort=0 - 100,000\\u003cbr\\u003edigit=%{marker.color}\\u003cbr\\u003epercent=%{y}\\u003cextra\\u003e\\u003c\\u002fextra\\u003e\",\"ids\":[3,1,4,5,9,2,6,8,7,0],\"legendgroup\":\"\",\"marker\":{\"color\":[3,1,4,5,9,2,6,8,7,0],\"coloraxis\":\"coloraxis\",\"pattern\":{\"shape\":\"\"}},\"name\":\"\",\"offsetgroup\":\"\",\"orientation\":\"v\",\"showlegend\":false,\"textposition\":\"auto\",\"x\":[3,1,4,5,9,2,6,8,7,0],\"xaxis\":\"x\",\"y\":[10.026,10.137,9.971,10.026,9.902,9.908,10.028,9.978,10.025,9.999],\"yaxis\":\"y\",\"type\":\"bar\"}],\"name\":\"0 - 100,000\"},{\"data\":[{\"alignmentgroup\":\"True\",\"hovertemplate\":\"cohort=0 - 1,000,000\\u003cbr\\u003edigit=%{marker.color}\\u003cbr\\u003epercent=%{y}\\u003cextra\\u003e\\u003c\\u002fextra\\u003e\",\"ids\":[3,1,4,5,9,2,6,8,7,0],\"legendgroup\":\"\",\"marker\":{\"color\":[3,1,4,5,9,2,6,8,7,0],\"coloraxis\":\"coloraxis\",\"pattern\":{\"shape\":\"\"}},\"name\":\"\",\"offsetgroup\":\"\",\"orientation\":\"v\",\"showlegend\":false,\"textposition\":\"auto\",\"x\":[3,1,4,5,9,2,6,8,7,0],\"xaxis\":\"x\",\"y\":[10.023,9.9757,10.023,10.0359,10.0106,10.0026,9.9548,9.9985,9.98,9.9959],\"yaxis\":\"y\",\"type\":\"bar\"}],\"name\":\"0 - 1,000,000\"}]);\n",
              "                        }).then(function(){\n",
              "                            \n",
              "var gd = document.getElementById('076ceb52-4888-4721-938e-7ba1557e6221');\n",
              "var x = new MutationObserver(function (mutations, observer) {{\n",
              "        var display = window.getComputedStyle(gd).display;\n",
              "        if (!display || display === 'none') {{\n",
              "            console.log([gd, 'removed!']);\n",
              "            Plotly.purge(gd);\n",
              "            observer.disconnect();\n",
              "        }}\n",
              "}});\n",
              "\n",
              "// Listen for the removal of the full notebook cells\n",
              "var notebookContainer = gd.closest('#notebook-container');\n",
              "if (notebookContainer) {{\n",
              "    x.observe(notebookContainer, {childList: true});\n",
              "}}\n",
              "\n",
              "// Listen for the clearing of the current output cell\n",
              "var outputEl = gd.closest('.output');\n",
              "if (outputEl) {{\n",
              "    x.observe(outputEl, {childList: true});\n",
              "}}\n",
              "\n",
              "                        })                };                            </script>        </div>\n",
              "</body>\n",
              "</html>"
            ]
          },
          "metadata": {}
        }
      ]
    },
    {
      "cell_type": "code",
      "source": [
        "# let's try to look at consecutive digits in PI, and see if there is a pattern\n",
        "# is there a difference in frequency of any consecutive pair?\n",
        "\n",
        "colummns = [0,1,2,3,4,5,6,7,8,9]\n",
        "consecutive_digit_counts = defaultdict(int)\n",
        "\n",
        "\n",
        "for i in range(1,len(pi_digits)):\n",
        "    key_tuple = (pi_digits[i], pi_digits[i-1])\n",
        "    consecutive_digit_counts[key_tuple] += 1\n",
        "\n",
        "\n"
      ],
      "metadata": {
        "id": "ZoV0w75hDM8v"
      },
      "execution_count": 19,
      "outputs": []
    },
    {
      "cell_type": "code",
      "source": [
        "print( \"dict:\", consecutive_digit_counts)\n",
        "\n",
        "# make into a 2x2 array\n",
        "i = 0\n",
        "j = 0\n",
        "consecutive_digit_counts_array = []\n",
        "for i in range(0,10):\n",
        "    row_array = []\n",
        "    for j in range(0,10):\n",
        "        key_type = (i,j)\n",
        "        if key_type in consecutive_digit_counts:\n",
        "            row_array.append(consecutive_digit_counts[key_type])\n",
        "        else:\n",
        "            row_array.append(0)\n",
        "    consecutive_digit_counts_array.append(row_array)\n",
        "\n",
        "print( \"consecutive_digit_counts_array:\", consecutive_digit_counts_array )\n",
        "\n",
        "consecutive_digits_df = pd.DataFrame(consecutive_digit_counts_array, columns=['0', '1', '2', '3', '4', '5', '6', '7', '8', '9'])\n",
        "print( \"consecutive_digits_df:\", consecutive_digits_df )"
      ],
      "metadata": {
        "colab": {
          "base_uri": "https://localhost:8080/"
        },
        "id": "qOrufVPFgYYM",
        "outputId": "e07e9556-b485-464b-abea-47c38b19b8e4"
      },
      "execution_count": 24,
      "outputs": [
        {
          "output_type": "stream",
          "name": "stdout",
          "text": [
            "dict: defaultdict(<class 'int'>, {(1, 3): 9939, (4, 1): 9875, (1, 4): 10010, (5, 1): 9992, (9, 5): 9998, (2, 9): 9985, (6, 2): 9858, (5, 6): 9981, (3, 5): 10050, (5, 3): 10188, (8, 5): 9918, (9, 8): 10038, (7, 9): 9903, (9, 7): 9899, (3, 9): 10053, (2, 3): 10055, (3, 2): 9951, (8, 3): 9951, (4, 8): 9960, (6, 4): 10193, (2, 6): 10085, (4, 6): 10014, (3, 4): 10009, (3, 3): 10026, (3, 8): 10047, (7, 2): 10224, (5, 9): 10015, (0, 5): 10066, (2, 0): 10048, (8, 2): 9955, (8, 8): 10088, (9, 1): 10148, (1, 7): 10095, (6, 1): 9934, (9, 6): 9885, (9, 3): 10037, (9, 9): 10084, (7, 3): 10098, (5, 7): 9963, (1, 5): 9791, (0, 1): 10006, (5, 0): 10042, (2, 8): 10073, (0, 2): 9905, (9, 0): 10034, (4, 7): 10022, (9, 4): 10071, (4, 9): 10239, (4, 4): 9958, (5, 4): 10035, (0, 3): 10051, (7, 0): 9951, (8, 7): 9991, (1, 8): 9954, (0, 4): 10017, (6, 0): 9896, (6, 8): 9950, (8, 0): 10173, (8, 9): 10054, (0, 8): 10029, (3, 0): 10038, (4, 3): 9960, (8, 4): 9914, (5, 2): 9989, (2, 4): 9980, (1, 2): 10110, (1, 1): 10064, (7, 1): 9944, (0, 7): 9886, (7, 6): 9867, (3, 1): 10012, (6, 6): 9819, (7, 4): 10043, (0, 6): 10147, (5, 5): 10232, (2, 2): 10062, (2, 7): 9962, (2, 1): 9721, (1, 0): 9891, (5, 8): 9922, (2, 5): 10055, (6, 9): 9851, (9, 2): 9912, (4, 5): 10194, (6, 5): 10010, (1, 6): 9896, (0, 9): 9914, (1, 9): 10008, (4, 0): 9948, (6, 3): 9925, (4, 2): 10060, (3, 7): 10069, (7, 8): 9924, (0, 0): 9938, (3, 6): 9974, (7, 5): 10045, (8, 1): 10061, (7, 7): 9801, (6, 7): 10112, (8, 6): 9880})\n",
            "consecutive_digit_counts_array: [[9938, 10006, 9905, 10051, 10017, 10066, 10147, 9886, 10029, 9914], [9891, 10064, 10110, 9939, 10010, 9791, 9896, 10095, 9954, 10008], [10048, 9721, 10062, 10055, 9980, 10055, 10085, 9962, 10073, 9985], [10038, 10012, 9951, 10026, 10009, 10050, 9974, 10069, 10047, 10053], [9948, 9875, 10060, 9960, 9958, 10194, 10014, 10022, 9960, 10239], [10042, 9992, 9989, 10188, 10035, 10232, 9981, 9963, 9922, 10015], [9896, 9934, 9858, 9925, 10193, 10010, 9819, 10112, 9950, 9851], [9951, 9944, 10224, 10098, 10043, 10045, 9867, 9801, 9924, 9903], [10173, 10061, 9955, 9951, 9914, 9918, 9880, 9991, 10088, 10054], [10034, 10148, 9912, 10037, 10071, 9998, 9885, 9899, 10038, 10084]]\n",
            "consecutive_digits_df:        0      1      2      3      4      5      6      7      8      9\n",
            "0   9938  10006   9905  10051  10017  10066  10147   9886  10029   9914\n",
            "1   9891  10064  10110   9939  10010   9791   9896  10095   9954  10008\n",
            "2  10048   9721  10062  10055   9980  10055  10085   9962  10073   9985\n",
            "3  10038  10012   9951  10026  10009  10050   9974  10069  10047  10053\n",
            "4   9948   9875  10060   9960   9958  10194  10014  10022   9960  10239\n",
            "5  10042   9992   9989  10188  10035  10232   9981   9963   9922  10015\n",
            "6   9896   9934   9858   9925  10193  10010   9819  10112   9950   9851\n",
            "7   9951   9944  10224  10098  10043  10045   9867   9801   9924   9903\n",
            "8  10173  10061   9955   9951   9914   9918   9880   9991  10088  10054\n",
            "9  10034  10148   9912  10037  10071   9998   9885   9899  10038  10084\n"
          ]
        }
      ]
    },
    {
      "cell_type": "code",
      "source": [
        "fig = px.imshow(consecutive_digits_df, text_auto=True, aspect='square',\n",
        "                width=800, height=800,\n",
        "                title=\"Heatmap for frequency of consecutive digits, first million of \" + piName)\n",
        "fig.update_xaxes(\n",
        "                title=\"Digits ( 0 - 9)\",\n",
        "                tickmode = 'array',\n",
        "                tickvals = piDigitsLabels\n",
        "             )\n",
        "\n",
        "fig.update_yaxes(\n",
        "                title=\"Digits ( 0 - 9)\",\n",
        "                tickmode = 'array',\n",
        "                tickvals = piDigitsLabels\n",
        "             )\n",
        "\n",
        "fig.show()"
      ],
      "metadata": {
        "colab": {
          "base_uri": "https://localhost:8080/",
          "height": 817
        },
        "id": "LLOD8LmXlSCb",
        "outputId": "b75ec027-c9b3-4f05-b73c-420f6e2672b3"
      },
      "execution_count": 30,
      "outputs": [
        {
          "output_type": "display_data",
          "data": {
            "text/html": [
              "<html>\n",
              "<head><meta charset=\"utf-8\" /></head>\n",
              "<body>\n",
              "    <div>            <script src=\"https://cdnjs.cloudflare.com/ajax/libs/mathjax/2.7.5/MathJax.js?config=TeX-AMS-MML_SVG\"></script><script type=\"text/javascript\">if (window.MathJax && window.MathJax.Hub && window.MathJax.Hub.Config) {window.MathJax.Hub.Config({SVG: {font: \"STIX-Web\"}});}</script>                <script type=\"text/javascript\">window.PlotlyConfig = {MathJaxConfig: 'local'};</script>\n",
              "        <script charset=\"utf-8\" src=\"https://cdn.plot.ly/plotly-2.35.2.min.js\"></script>                <div id=\"ba1600d5-126a-4539-b135-52d69c6947f0\" class=\"plotly-graph-div\" style=\"height:800px; width:800px;\"></div>            <script type=\"text/javascript\">                                    window.PLOTLYENV=window.PLOTLYENV || {};                                    if (document.getElementById(\"ba1600d5-126a-4539-b135-52d69c6947f0\")) {                    Plotly.newPlot(                        \"ba1600d5-126a-4539-b135-52d69c6947f0\",                        [{\"coloraxis\":\"coloraxis\",\"name\":\"0\",\"texttemplate\":\"%{z}\",\"x\":[\"0\",\"1\",\"2\",\"3\",\"4\",\"5\",\"6\",\"7\",\"8\",\"9\"],\"y\":[0,1,2,3,4,5,6,7,8,9],\"z\":[[9938,10006,9905,10051,10017,10066,10147,9886,10029,9914],[9891,10064,10110,9939,10010,9791,9896,10095,9954,10008],[10048,9721,10062,10055,9980,10055,10085,9962,10073,9985],[10038,10012,9951,10026,10009,10050,9974,10069,10047,10053],[9948,9875,10060,9960,9958,10194,10014,10022,9960,10239],[10042,9992,9989,10188,10035,10232,9981,9963,9922,10015],[9896,9934,9858,9925,10193,10010,9819,10112,9950,9851],[9951,9944,10224,10098,10043,10045,9867,9801,9924,9903],[10173,10061,9955,9951,9914,9918,9880,9991,10088,10054],[10034,10148,9912,10037,10071,9998,9885,9899,10038,10084]],\"type\":\"heatmap\",\"xaxis\":\"x\",\"yaxis\":\"y\",\"hovertemplate\":\"x: %{x}\\u003cbr\\u003ey: %{y}\\u003cbr\\u003ecolor: %{z}\\u003cextra\\u003e\\u003c\\u002fextra\\u003e\"}],                        {\"template\":{\"data\":{\"histogram2dcontour\":[{\"type\":\"histogram2dcontour\",\"colorbar\":{\"outlinewidth\":0,\"ticks\":\"\"},\"colorscale\":[[0.0,\"#0d0887\"],[0.1111111111111111,\"#46039f\"],[0.2222222222222222,\"#7201a8\"],[0.3333333333333333,\"#9c179e\"],[0.4444444444444444,\"#bd3786\"],[0.5555555555555556,\"#d8576b\"],[0.6666666666666666,\"#ed7953\"],[0.7777777777777778,\"#fb9f3a\"],[0.8888888888888888,\"#fdca26\"],[1.0,\"#f0f921\"]]}],\"choropleth\":[{\"type\":\"choropleth\",\"colorbar\":{\"outlinewidth\":0,\"ticks\":\"\"}}],\"histogram2d\":[{\"type\":\"histogram2d\",\"colorbar\":{\"outlinewidth\":0,\"ticks\":\"\"},\"colorscale\":[[0.0,\"#0d0887\"],[0.1111111111111111,\"#46039f\"],[0.2222222222222222,\"#7201a8\"],[0.3333333333333333,\"#9c179e\"],[0.4444444444444444,\"#bd3786\"],[0.5555555555555556,\"#d8576b\"],[0.6666666666666666,\"#ed7953\"],[0.7777777777777778,\"#fb9f3a\"],[0.8888888888888888,\"#fdca26\"],[1.0,\"#f0f921\"]]}],\"heatmap\":[{\"type\":\"heatmap\",\"colorbar\":{\"outlinewidth\":0,\"ticks\":\"\"},\"colorscale\":[[0.0,\"#0d0887\"],[0.1111111111111111,\"#46039f\"],[0.2222222222222222,\"#7201a8\"],[0.3333333333333333,\"#9c179e\"],[0.4444444444444444,\"#bd3786\"],[0.5555555555555556,\"#d8576b\"],[0.6666666666666666,\"#ed7953\"],[0.7777777777777778,\"#fb9f3a\"],[0.8888888888888888,\"#fdca26\"],[1.0,\"#f0f921\"]]}],\"heatmapgl\":[{\"type\":\"heatmapgl\",\"colorbar\":{\"outlinewidth\":0,\"ticks\":\"\"},\"colorscale\":[[0.0,\"#0d0887\"],[0.1111111111111111,\"#46039f\"],[0.2222222222222222,\"#7201a8\"],[0.3333333333333333,\"#9c179e\"],[0.4444444444444444,\"#bd3786\"],[0.5555555555555556,\"#d8576b\"],[0.6666666666666666,\"#ed7953\"],[0.7777777777777778,\"#fb9f3a\"],[0.8888888888888888,\"#fdca26\"],[1.0,\"#f0f921\"]]}],\"contourcarpet\":[{\"type\":\"contourcarpet\",\"colorbar\":{\"outlinewidth\":0,\"ticks\":\"\"}}],\"contour\":[{\"type\":\"contour\",\"colorbar\":{\"outlinewidth\":0,\"ticks\":\"\"},\"colorscale\":[[0.0,\"#0d0887\"],[0.1111111111111111,\"#46039f\"],[0.2222222222222222,\"#7201a8\"],[0.3333333333333333,\"#9c179e\"],[0.4444444444444444,\"#bd3786\"],[0.5555555555555556,\"#d8576b\"],[0.6666666666666666,\"#ed7953\"],[0.7777777777777778,\"#fb9f3a\"],[0.8888888888888888,\"#fdca26\"],[1.0,\"#f0f921\"]]}],\"surface\":[{\"type\":\"surface\",\"colorbar\":{\"outlinewidth\":0,\"ticks\":\"\"},\"colorscale\":[[0.0,\"#0d0887\"],[0.1111111111111111,\"#46039f\"],[0.2222222222222222,\"#7201a8\"],[0.3333333333333333,\"#9c179e\"],[0.4444444444444444,\"#bd3786\"],[0.5555555555555556,\"#d8576b\"],[0.6666666666666666,\"#ed7953\"],[0.7777777777777778,\"#fb9f3a\"],[0.8888888888888888,\"#fdca26\"],[1.0,\"#f0f921\"]]}],\"mesh3d\":[{\"type\":\"mesh3d\",\"colorbar\":{\"outlinewidth\":0,\"ticks\":\"\"}}],\"scatter\":[{\"fillpattern\":{\"fillmode\":\"overlay\",\"size\":10,\"solidity\":0.2},\"type\":\"scatter\"}],\"parcoords\":[{\"type\":\"parcoords\",\"line\":{\"colorbar\":{\"outlinewidth\":0,\"ticks\":\"\"}}}],\"scatterpolargl\":[{\"type\":\"scatterpolargl\",\"marker\":{\"colorbar\":{\"outlinewidth\":0,\"ticks\":\"\"}}}],\"bar\":[{\"error_x\":{\"color\":\"#2a3f5f\"},\"error_y\":{\"color\":\"#2a3f5f\"},\"marker\":{\"line\":{\"color\":\"#E5ECF6\",\"width\":0.5},\"pattern\":{\"fillmode\":\"overlay\",\"size\":10,\"solidity\":0.2}},\"type\":\"bar\"}],\"scattergeo\":[{\"type\":\"scattergeo\",\"marker\":{\"colorbar\":{\"outlinewidth\":0,\"ticks\":\"\"}}}],\"scatterpolar\":[{\"type\":\"scatterpolar\",\"marker\":{\"colorbar\":{\"outlinewidth\":0,\"ticks\":\"\"}}}],\"histogram\":[{\"marker\":{\"pattern\":{\"fillmode\":\"overlay\",\"size\":10,\"solidity\":0.2}},\"type\":\"histogram\"}],\"scattergl\":[{\"type\":\"scattergl\",\"marker\":{\"colorbar\":{\"outlinewidth\":0,\"ticks\":\"\"}}}],\"scatter3d\":[{\"type\":\"scatter3d\",\"line\":{\"colorbar\":{\"outlinewidth\":0,\"ticks\":\"\"}},\"marker\":{\"colorbar\":{\"outlinewidth\":0,\"ticks\":\"\"}}}],\"scattermapbox\":[{\"type\":\"scattermapbox\",\"marker\":{\"colorbar\":{\"outlinewidth\":0,\"ticks\":\"\"}}}],\"scatterternary\":[{\"type\":\"scatterternary\",\"marker\":{\"colorbar\":{\"outlinewidth\":0,\"ticks\":\"\"}}}],\"scattercarpet\":[{\"type\":\"scattercarpet\",\"marker\":{\"colorbar\":{\"outlinewidth\":0,\"ticks\":\"\"}}}],\"carpet\":[{\"aaxis\":{\"endlinecolor\":\"#2a3f5f\",\"gridcolor\":\"white\",\"linecolor\":\"white\",\"minorgridcolor\":\"white\",\"startlinecolor\":\"#2a3f5f\"},\"baxis\":{\"endlinecolor\":\"#2a3f5f\",\"gridcolor\":\"white\",\"linecolor\":\"white\",\"minorgridcolor\":\"white\",\"startlinecolor\":\"#2a3f5f\"},\"type\":\"carpet\"}],\"table\":[{\"cells\":{\"fill\":{\"color\":\"#EBF0F8\"},\"line\":{\"color\":\"white\"}},\"header\":{\"fill\":{\"color\":\"#C8D4E3\"},\"line\":{\"color\":\"white\"}},\"type\":\"table\"}],\"barpolar\":[{\"marker\":{\"line\":{\"color\":\"#E5ECF6\",\"width\":0.5},\"pattern\":{\"fillmode\":\"overlay\",\"size\":10,\"solidity\":0.2}},\"type\":\"barpolar\"}],\"pie\":[{\"automargin\":true,\"type\":\"pie\"}]},\"layout\":{\"autotypenumbers\":\"strict\",\"colorway\":[\"#636efa\",\"#EF553B\",\"#00cc96\",\"#ab63fa\",\"#FFA15A\",\"#19d3f3\",\"#FF6692\",\"#B6E880\",\"#FF97FF\",\"#FECB52\"],\"font\":{\"color\":\"#2a3f5f\"},\"hovermode\":\"closest\",\"hoverlabel\":{\"align\":\"left\"},\"paper_bgcolor\":\"white\",\"plot_bgcolor\":\"#E5ECF6\",\"polar\":{\"bgcolor\":\"#E5ECF6\",\"angularaxis\":{\"gridcolor\":\"white\",\"linecolor\":\"white\",\"ticks\":\"\"},\"radialaxis\":{\"gridcolor\":\"white\",\"linecolor\":\"white\",\"ticks\":\"\"}},\"ternary\":{\"bgcolor\":\"#E5ECF6\",\"aaxis\":{\"gridcolor\":\"white\",\"linecolor\":\"white\",\"ticks\":\"\"},\"baxis\":{\"gridcolor\":\"white\",\"linecolor\":\"white\",\"ticks\":\"\"},\"caxis\":{\"gridcolor\":\"white\",\"linecolor\":\"white\",\"ticks\":\"\"}},\"coloraxis\":{\"colorbar\":{\"outlinewidth\":0,\"ticks\":\"\"}},\"colorscale\":{\"sequential\":[[0.0,\"#0d0887\"],[0.1111111111111111,\"#46039f\"],[0.2222222222222222,\"#7201a8\"],[0.3333333333333333,\"#9c179e\"],[0.4444444444444444,\"#bd3786\"],[0.5555555555555556,\"#d8576b\"],[0.6666666666666666,\"#ed7953\"],[0.7777777777777778,\"#fb9f3a\"],[0.8888888888888888,\"#fdca26\"],[1.0,\"#f0f921\"]],\"sequentialminus\":[[0.0,\"#0d0887\"],[0.1111111111111111,\"#46039f\"],[0.2222222222222222,\"#7201a8\"],[0.3333333333333333,\"#9c179e\"],[0.4444444444444444,\"#bd3786\"],[0.5555555555555556,\"#d8576b\"],[0.6666666666666666,\"#ed7953\"],[0.7777777777777778,\"#fb9f3a\"],[0.8888888888888888,\"#fdca26\"],[1.0,\"#f0f921\"]],\"diverging\":[[0,\"#8e0152\"],[0.1,\"#c51b7d\"],[0.2,\"#de77ae\"],[0.3,\"#f1b6da\"],[0.4,\"#fde0ef\"],[0.5,\"#f7f7f7\"],[0.6,\"#e6f5d0\"],[0.7,\"#b8e186\"],[0.8,\"#7fbc41\"],[0.9,\"#4d9221\"],[1,\"#276419\"]]},\"xaxis\":{\"gridcolor\":\"white\",\"linecolor\":\"white\",\"ticks\":\"\",\"title\":{\"standoff\":15},\"zerolinecolor\":\"white\",\"automargin\":true,\"zerolinewidth\":2},\"yaxis\":{\"gridcolor\":\"white\",\"linecolor\":\"white\",\"ticks\":\"\",\"title\":{\"standoff\":15},\"zerolinecolor\":\"white\",\"automargin\":true,\"zerolinewidth\":2},\"scene\":{\"xaxis\":{\"backgroundcolor\":\"#E5ECF6\",\"gridcolor\":\"white\",\"linecolor\":\"white\",\"showbackground\":true,\"ticks\":\"\",\"zerolinecolor\":\"white\",\"gridwidth\":2},\"yaxis\":{\"backgroundcolor\":\"#E5ECF6\",\"gridcolor\":\"white\",\"linecolor\":\"white\",\"showbackground\":true,\"ticks\":\"\",\"zerolinecolor\":\"white\",\"gridwidth\":2},\"zaxis\":{\"backgroundcolor\":\"#E5ECF6\",\"gridcolor\":\"white\",\"linecolor\":\"white\",\"showbackground\":true,\"ticks\":\"\",\"zerolinecolor\":\"white\",\"gridwidth\":2}},\"shapedefaults\":{\"line\":{\"color\":\"#2a3f5f\"}},\"annotationdefaults\":{\"arrowcolor\":\"#2a3f5f\",\"arrowhead\":0,\"arrowwidth\":1},\"geo\":{\"bgcolor\":\"white\",\"landcolor\":\"#E5ECF6\",\"subunitcolor\":\"white\",\"showland\":true,\"showlakes\":true,\"lakecolor\":\"white\"},\"title\":{\"x\":0.05},\"mapbox\":{\"style\":\"light\"}}},\"xaxis\":{\"anchor\":\"y\",\"domain\":[0.0,1.0],\"title\":{\"text\":\"Digits ( 0 - 9)\"},\"tickmode\":\"array\",\"tickvals\":[\"0\",\"1\",\"2\",\"3\",\"4\",\"5\",\"6\",\"7\",\"8\",\"9\"]},\"yaxis\":{\"anchor\":\"x\",\"domain\":[0.0,1.0],\"autorange\":\"reversed\",\"title\":{\"text\":\"Digits ( 0 - 9)\"},\"tickmode\":\"array\",\"tickvals\":[\"0\",\"1\",\"2\",\"3\",\"4\",\"5\",\"6\",\"7\",\"8\",\"9\"]},\"coloraxis\":{\"colorscale\":[[0.0,\"#0d0887\"],[0.1111111111111111,\"#46039f\"],[0.2222222222222222,\"#7201a8\"],[0.3333333333333333,\"#9c179e\"],[0.4444444444444444,\"#bd3786\"],[0.5555555555555556,\"#d8576b\"],[0.6666666666666666,\"#ed7953\"],[0.7777777777777778,\"#fb9f3a\"],[0.8888888888888888,\"#fdca26\"],[1.0,\"#f0f921\"]]},\"title\":{\"text\":\"Heatmap for frequency of consecutive digits, first million of Π\"},\"height\":800,\"width\":800},                        {\"responsive\": true}                    ).then(function(){\n",
              "                            \n",
              "var gd = document.getElementById('ba1600d5-126a-4539-b135-52d69c6947f0');\n",
              "var x = new MutationObserver(function (mutations, observer) {{\n",
              "        var display = window.getComputedStyle(gd).display;\n",
              "        if (!display || display === 'none') {{\n",
              "            console.log([gd, 'removed!']);\n",
              "            Plotly.purge(gd);\n",
              "            observer.disconnect();\n",
              "        }}\n",
              "}});\n",
              "\n",
              "// Listen for the removal of the full notebook cells\n",
              "var notebookContainer = gd.closest('#notebook-container');\n",
              "if (notebookContainer) {{\n",
              "    x.observe(notebookContainer, {childList: true});\n",
              "}}\n",
              "\n",
              "// Listen for the clearing of the current output cell\n",
              "var outputEl = gd.closest('.output');\n",
              "if (outputEl) {{\n",
              "    x.observe(outputEl, {childList: true});\n",
              "}}\n",
              "\n",
              "                        })                };                            </script>        </div>\n",
              "</body>\n",
              "</html>"
            ]
          },
          "metadata": {}
        }
      ]
    },
    {
      "cell_type": "code",
      "source": [
        "# what is the longest repeat sequence for each digit in the first million?\n",
        "\n",
        "max_repeat_digits = defaultdict(int)\n",
        "\n",
        "i = 1\n",
        "j = 0\n",
        "\n",
        "\n",
        "while i < len(pi_digits):\n",
        "    if pi_digits[i] == pi_digits[j]:\n",
        "        max_repeat_digits[pi_digits[j]] = max(max_repeat_digits[pi_digits[j]], i - j + 1)\n",
        "        i += 1\n",
        "    else:\n",
        "        j = i\n",
        "\n",
        "print( \"max_repeats:\", max_repeat_digits)\n",
        "\n",
        "# and create a dataframe\n",
        "max_repeats_df = pd.DataFrame(list(max_repeat_digits.items()), columns=['digit', 'repeat length'])\n",
        "max_repeats_df = max_repeats_df.sort_values(by='digit')\n",
        "print( \"max_repeats_df:\", max_repeats_df )\n",
        "\n",
        "\n"
      ],
      "metadata": {
        "colab": {
          "base_uri": "https://localhost:8080/"
        },
        "id": "idSxD-bqnDEF",
        "outputId": "1aba4627-0956-4c97-c8f3-d84f6887ed57"
      },
      "execution_count": 43,
      "outputs": [
        {
          "output_type": "stream",
          "name": "stdout",
          "text": [
            "max_repeats: defaultdict(<class 'int'>, {1: 6, 4: 6, 5: 6, 9: 6, 2: 6, 6: 6, 3: 7, 8: 6, 7: 6, 0: 5})\n",
            "max_repeats_df:    digit  repeat length\n",
            "9      0              5\n",
            "0      1              6\n",
            "4      2              6\n",
            "6      3              7\n",
            "1      4              6\n",
            "2      5              6\n",
            "5      6              6\n",
            "8      7              6\n",
            "7      8              6\n",
            "3      9              6\n"
          ]
        }
      ]
    },
    {
      "cell_type": "code",
      "source": [
        "# graph as a histogram\n",
        "\n",
        "fig = go.Figure(\n",
        "    data=[\n",
        "        go.Bar(name='digit', x=max_repeats_df['digit'], y=max_repeats_df['repeat length'])\n",
        "    ],\n",
        "    layout=go.Layout(\n",
        "        title=dict(\n",
        "            text=\"Maximum number of consecutive repeats for each digit, in the first million places of \" + piName,\n",
        "            xanchor=\"center\",\n",
        "            yanchor=\"top\",\n",
        "            y=0.9,\n",
        "            x=0.5\n",
        "        ),\n",
        "        xaxis=dict(\n",
        "            title=\"Digits ( 0 - 9)\",\n",
        "            tickmode = 'array',\n",
        "            tickvals = piDigitsLabels\n",
        "        ),\n",
        "        yaxis=dict(\n",
        "            title=dict(\n",
        "                text=\"Max Consecutive Repeats\"\n",
        "            )\n",
        "        ),\n",
        "        font=dict(\n",
        "            family=\"Helvetica\",\n",
        "            size=18,\n",
        "            color=\"IndianRed\",\n",
        "            variant=\"small-caps\",\n",
        "        )\n",
        "    )\n",
        ")\n",
        "\n",
        "fig.show()\n",
        "\n"
      ],
      "metadata": {
        "colab": {
          "base_uri": "https://localhost:8080/",
          "height": 542
        },
        "id": "4Dldolfep09A",
        "outputId": "5be5079b-9ad6-4892-a733-d5ec1960a453"
      },
      "execution_count": 44,
      "outputs": [
        {
          "output_type": "display_data",
          "data": {
            "text/html": [
              "<html>\n",
              "<head><meta charset=\"utf-8\" /></head>\n",
              "<body>\n",
              "    <div>            <script src=\"https://cdnjs.cloudflare.com/ajax/libs/mathjax/2.7.5/MathJax.js?config=TeX-AMS-MML_SVG\"></script><script type=\"text/javascript\">if (window.MathJax && window.MathJax.Hub && window.MathJax.Hub.Config) {window.MathJax.Hub.Config({SVG: {font: \"STIX-Web\"}});}</script>                <script type=\"text/javascript\">window.PlotlyConfig = {MathJaxConfig: 'local'};</script>\n",
              "        <script charset=\"utf-8\" src=\"https://cdn.plot.ly/plotly-2.35.2.min.js\"></script>                <div id=\"ae524b0d-a371-4895-887d-89176f107de3\" class=\"plotly-graph-div\" style=\"height:525px; width:100%;\"></div>            <script type=\"text/javascript\">                                    window.PLOTLYENV=window.PLOTLYENV || {};                                    if (document.getElementById(\"ae524b0d-a371-4895-887d-89176f107de3\")) {                    Plotly.newPlot(                        \"ae524b0d-a371-4895-887d-89176f107de3\",                        [{\"name\":\"digit\",\"x\":[0,1,2,3,4,5,6,7,8,9],\"y\":[5,6,6,7,6,6,6,6,6,6],\"type\":\"bar\"}],                        {\"font\":{\"color\":\"IndianRed\",\"family\":\"Helvetica\",\"size\":18,\"variant\":\"small-caps\"},\"title\":{\"text\":\"Maximum number of consecutive repeats for each digit, in the first million places of Π\",\"x\":0.5,\"xanchor\":\"center\",\"y\":0.9,\"yanchor\":\"top\"},\"xaxis\":{\"tickmode\":\"array\",\"tickvals\":[\"0\",\"1\",\"2\",\"3\",\"4\",\"5\",\"6\",\"7\",\"8\",\"9\"],\"title\":{\"text\":\"Digits ( 0 - 9)\"}},\"yaxis\":{\"title\":{\"text\":\"Max Consecutive Repeats\"}},\"template\":{\"data\":{\"histogram2dcontour\":[{\"type\":\"histogram2dcontour\",\"colorbar\":{\"outlinewidth\":0,\"ticks\":\"\"},\"colorscale\":[[0.0,\"#0d0887\"],[0.1111111111111111,\"#46039f\"],[0.2222222222222222,\"#7201a8\"],[0.3333333333333333,\"#9c179e\"],[0.4444444444444444,\"#bd3786\"],[0.5555555555555556,\"#d8576b\"],[0.6666666666666666,\"#ed7953\"],[0.7777777777777778,\"#fb9f3a\"],[0.8888888888888888,\"#fdca26\"],[1.0,\"#f0f921\"]]}],\"choropleth\":[{\"type\":\"choropleth\",\"colorbar\":{\"outlinewidth\":0,\"ticks\":\"\"}}],\"histogram2d\":[{\"type\":\"histogram2d\",\"colorbar\":{\"outlinewidth\":0,\"ticks\":\"\"},\"colorscale\":[[0.0,\"#0d0887\"],[0.1111111111111111,\"#46039f\"],[0.2222222222222222,\"#7201a8\"],[0.3333333333333333,\"#9c179e\"],[0.4444444444444444,\"#bd3786\"],[0.5555555555555556,\"#d8576b\"],[0.6666666666666666,\"#ed7953\"],[0.7777777777777778,\"#fb9f3a\"],[0.8888888888888888,\"#fdca26\"],[1.0,\"#f0f921\"]]}],\"heatmap\":[{\"type\":\"heatmap\",\"colorbar\":{\"outlinewidth\":0,\"ticks\":\"\"},\"colorscale\":[[0.0,\"#0d0887\"],[0.1111111111111111,\"#46039f\"],[0.2222222222222222,\"#7201a8\"],[0.3333333333333333,\"#9c179e\"],[0.4444444444444444,\"#bd3786\"],[0.5555555555555556,\"#d8576b\"],[0.6666666666666666,\"#ed7953\"],[0.7777777777777778,\"#fb9f3a\"],[0.8888888888888888,\"#fdca26\"],[1.0,\"#f0f921\"]]}],\"heatmapgl\":[{\"type\":\"heatmapgl\",\"colorbar\":{\"outlinewidth\":0,\"ticks\":\"\"},\"colorscale\":[[0.0,\"#0d0887\"],[0.1111111111111111,\"#46039f\"],[0.2222222222222222,\"#7201a8\"],[0.3333333333333333,\"#9c179e\"],[0.4444444444444444,\"#bd3786\"],[0.5555555555555556,\"#d8576b\"],[0.6666666666666666,\"#ed7953\"],[0.7777777777777778,\"#fb9f3a\"],[0.8888888888888888,\"#fdca26\"],[1.0,\"#f0f921\"]]}],\"contourcarpet\":[{\"type\":\"contourcarpet\",\"colorbar\":{\"outlinewidth\":0,\"ticks\":\"\"}}],\"contour\":[{\"type\":\"contour\",\"colorbar\":{\"outlinewidth\":0,\"ticks\":\"\"},\"colorscale\":[[0.0,\"#0d0887\"],[0.1111111111111111,\"#46039f\"],[0.2222222222222222,\"#7201a8\"],[0.3333333333333333,\"#9c179e\"],[0.4444444444444444,\"#bd3786\"],[0.5555555555555556,\"#d8576b\"],[0.6666666666666666,\"#ed7953\"],[0.7777777777777778,\"#fb9f3a\"],[0.8888888888888888,\"#fdca26\"],[1.0,\"#f0f921\"]]}],\"surface\":[{\"type\":\"surface\",\"colorbar\":{\"outlinewidth\":0,\"ticks\":\"\"},\"colorscale\":[[0.0,\"#0d0887\"],[0.1111111111111111,\"#46039f\"],[0.2222222222222222,\"#7201a8\"],[0.3333333333333333,\"#9c179e\"],[0.4444444444444444,\"#bd3786\"],[0.5555555555555556,\"#d8576b\"],[0.6666666666666666,\"#ed7953\"],[0.7777777777777778,\"#fb9f3a\"],[0.8888888888888888,\"#fdca26\"],[1.0,\"#f0f921\"]]}],\"mesh3d\":[{\"type\":\"mesh3d\",\"colorbar\":{\"outlinewidth\":0,\"ticks\":\"\"}}],\"scatter\":[{\"fillpattern\":{\"fillmode\":\"overlay\",\"size\":10,\"solidity\":0.2},\"type\":\"scatter\"}],\"parcoords\":[{\"type\":\"parcoords\",\"line\":{\"colorbar\":{\"outlinewidth\":0,\"ticks\":\"\"}}}],\"scatterpolargl\":[{\"type\":\"scatterpolargl\",\"marker\":{\"colorbar\":{\"outlinewidth\":0,\"ticks\":\"\"}}}],\"bar\":[{\"error_x\":{\"color\":\"#2a3f5f\"},\"error_y\":{\"color\":\"#2a3f5f\"},\"marker\":{\"line\":{\"color\":\"#E5ECF6\",\"width\":0.5},\"pattern\":{\"fillmode\":\"overlay\",\"size\":10,\"solidity\":0.2}},\"type\":\"bar\"}],\"scattergeo\":[{\"type\":\"scattergeo\",\"marker\":{\"colorbar\":{\"outlinewidth\":0,\"ticks\":\"\"}}}],\"scatterpolar\":[{\"type\":\"scatterpolar\",\"marker\":{\"colorbar\":{\"outlinewidth\":0,\"ticks\":\"\"}}}],\"histogram\":[{\"marker\":{\"pattern\":{\"fillmode\":\"overlay\",\"size\":10,\"solidity\":0.2}},\"type\":\"histogram\"}],\"scattergl\":[{\"type\":\"scattergl\",\"marker\":{\"colorbar\":{\"outlinewidth\":0,\"ticks\":\"\"}}}],\"scatter3d\":[{\"type\":\"scatter3d\",\"line\":{\"colorbar\":{\"outlinewidth\":0,\"ticks\":\"\"}},\"marker\":{\"colorbar\":{\"outlinewidth\":0,\"ticks\":\"\"}}}],\"scattermapbox\":[{\"type\":\"scattermapbox\",\"marker\":{\"colorbar\":{\"outlinewidth\":0,\"ticks\":\"\"}}}],\"scatterternary\":[{\"type\":\"scatterternary\",\"marker\":{\"colorbar\":{\"outlinewidth\":0,\"ticks\":\"\"}}}],\"scattercarpet\":[{\"type\":\"scattercarpet\",\"marker\":{\"colorbar\":{\"outlinewidth\":0,\"ticks\":\"\"}}}],\"carpet\":[{\"aaxis\":{\"endlinecolor\":\"#2a3f5f\",\"gridcolor\":\"white\",\"linecolor\":\"white\",\"minorgridcolor\":\"white\",\"startlinecolor\":\"#2a3f5f\"},\"baxis\":{\"endlinecolor\":\"#2a3f5f\",\"gridcolor\":\"white\",\"linecolor\":\"white\",\"minorgridcolor\":\"white\",\"startlinecolor\":\"#2a3f5f\"},\"type\":\"carpet\"}],\"table\":[{\"cells\":{\"fill\":{\"color\":\"#EBF0F8\"},\"line\":{\"color\":\"white\"}},\"header\":{\"fill\":{\"color\":\"#C8D4E3\"},\"line\":{\"color\":\"white\"}},\"type\":\"table\"}],\"barpolar\":[{\"marker\":{\"line\":{\"color\":\"#E5ECF6\",\"width\":0.5},\"pattern\":{\"fillmode\":\"overlay\",\"size\":10,\"solidity\":0.2}},\"type\":\"barpolar\"}],\"pie\":[{\"automargin\":true,\"type\":\"pie\"}]},\"layout\":{\"autotypenumbers\":\"strict\",\"colorway\":[\"#636efa\",\"#EF553B\",\"#00cc96\",\"#ab63fa\",\"#FFA15A\",\"#19d3f3\",\"#FF6692\",\"#B6E880\",\"#FF97FF\",\"#FECB52\"],\"font\":{\"color\":\"#2a3f5f\"},\"hovermode\":\"closest\",\"hoverlabel\":{\"align\":\"left\"},\"paper_bgcolor\":\"white\",\"plot_bgcolor\":\"#E5ECF6\",\"polar\":{\"bgcolor\":\"#E5ECF6\",\"angularaxis\":{\"gridcolor\":\"white\",\"linecolor\":\"white\",\"ticks\":\"\"},\"radialaxis\":{\"gridcolor\":\"white\",\"linecolor\":\"white\",\"ticks\":\"\"}},\"ternary\":{\"bgcolor\":\"#E5ECF6\",\"aaxis\":{\"gridcolor\":\"white\",\"linecolor\":\"white\",\"ticks\":\"\"},\"baxis\":{\"gridcolor\":\"white\",\"linecolor\":\"white\",\"ticks\":\"\"},\"caxis\":{\"gridcolor\":\"white\",\"linecolor\":\"white\",\"ticks\":\"\"}},\"coloraxis\":{\"colorbar\":{\"outlinewidth\":0,\"ticks\":\"\"}},\"colorscale\":{\"sequential\":[[0.0,\"#0d0887\"],[0.1111111111111111,\"#46039f\"],[0.2222222222222222,\"#7201a8\"],[0.3333333333333333,\"#9c179e\"],[0.4444444444444444,\"#bd3786\"],[0.5555555555555556,\"#d8576b\"],[0.6666666666666666,\"#ed7953\"],[0.7777777777777778,\"#fb9f3a\"],[0.8888888888888888,\"#fdca26\"],[1.0,\"#f0f921\"]],\"sequentialminus\":[[0.0,\"#0d0887\"],[0.1111111111111111,\"#46039f\"],[0.2222222222222222,\"#7201a8\"],[0.3333333333333333,\"#9c179e\"],[0.4444444444444444,\"#bd3786\"],[0.5555555555555556,\"#d8576b\"],[0.6666666666666666,\"#ed7953\"],[0.7777777777777778,\"#fb9f3a\"],[0.8888888888888888,\"#fdca26\"],[1.0,\"#f0f921\"]],\"diverging\":[[0,\"#8e0152\"],[0.1,\"#c51b7d\"],[0.2,\"#de77ae\"],[0.3,\"#f1b6da\"],[0.4,\"#fde0ef\"],[0.5,\"#f7f7f7\"],[0.6,\"#e6f5d0\"],[0.7,\"#b8e186\"],[0.8,\"#7fbc41\"],[0.9,\"#4d9221\"],[1,\"#276419\"]]},\"xaxis\":{\"gridcolor\":\"white\",\"linecolor\":\"white\",\"ticks\":\"\",\"title\":{\"standoff\":15},\"zerolinecolor\":\"white\",\"automargin\":true,\"zerolinewidth\":2},\"yaxis\":{\"gridcolor\":\"white\",\"linecolor\":\"white\",\"ticks\":\"\",\"title\":{\"standoff\":15},\"zerolinecolor\":\"white\",\"automargin\":true,\"zerolinewidth\":2},\"scene\":{\"xaxis\":{\"backgroundcolor\":\"#E5ECF6\",\"gridcolor\":\"white\",\"linecolor\":\"white\",\"showbackground\":true,\"ticks\":\"\",\"zerolinecolor\":\"white\",\"gridwidth\":2},\"yaxis\":{\"backgroundcolor\":\"#E5ECF6\",\"gridcolor\":\"white\",\"linecolor\":\"white\",\"showbackground\":true,\"ticks\":\"\",\"zerolinecolor\":\"white\",\"gridwidth\":2},\"zaxis\":{\"backgroundcolor\":\"#E5ECF6\",\"gridcolor\":\"white\",\"linecolor\":\"white\",\"showbackground\":true,\"ticks\":\"\",\"zerolinecolor\":\"white\",\"gridwidth\":2}},\"shapedefaults\":{\"line\":{\"color\":\"#2a3f5f\"}},\"annotationdefaults\":{\"arrowcolor\":\"#2a3f5f\",\"arrowhead\":0,\"arrowwidth\":1},\"geo\":{\"bgcolor\":\"white\",\"landcolor\":\"#E5ECF6\",\"subunitcolor\":\"white\",\"showland\":true,\"showlakes\":true,\"lakecolor\":\"white\"},\"title\":{\"x\":0.05},\"mapbox\":{\"style\":\"light\"}}}},                        {\"responsive\": true}                    ).then(function(){\n",
              "                            \n",
              "var gd = document.getElementById('ae524b0d-a371-4895-887d-89176f107de3');\n",
              "var x = new MutationObserver(function (mutations, observer) {{\n",
              "        var display = window.getComputedStyle(gd).display;\n",
              "        if (!display || display === 'none') {{\n",
              "            console.log([gd, 'removed!']);\n",
              "            Plotly.purge(gd);\n",
              "            observer.disconnect();\n",
              "        }}\n",
              "}});\n",
              "\n",
              "// Listen for the removal of the full notebook cells\n",
              "var notebookContainer = gd.closest('#notebook-container');\n",
              "if (notebookContainer) {{\n",
              "    x.observe(notebookContainer, {childList: true});\n",
              "}}\n",
              "\n",
              "// Listen for the clearing of the current output cell\n",
              "var outputEl = gd.closest('.output');\n",
              "if (outputEl) {{\n",
              "    x.observe(outputEl, {childList: true});\n",
              "}}\n",
              "\n",
              "                        })                };                            </script>        </div>\n",
              "</body>\n",
              "</html>"
            ]
          },
          "metadata": {}
        }
      ]
    },
    {
      "cell_type": "code",
      "source": [
        "\n",
        "import plotly.express as px\n",
        "\n",
        "\n",
        "cohorts_dist_df['direction'] = 36*cohorts_dist_df['digit']\n",
        "directions = [36*digit for digit in range(0,10)]\n",
        "\n",
        "\n",
        "fig = px.bar_polar(cohorts_dist_df, r=\"percent\", theta=\"direction\",\n",
        "                   color=\"cohort\", template=\"plotly_dark\",\n",
        "                   color_discrete_sequence= px.colors.sequential.Turbo_r,\n",
        "                   width=800, height=800,\n",
        "                   title=\"Percent of distribution for each digit in each cohort of first million places of \" + piName)\n",
        "fig.update_polars(angularaxis_tickmode=\"array\", angularaxis_ticks=\"outside\", angularaxis_tickvals=directions, angularaxis_ticktext=piDigitsLabels)\n",
        "\n",
        "fig.show()"
      ],
      "metadata": {
        "colab": {
          "base_uri": "https://localhost:8080/",
          "height": 817
        },
        "id": "xCB0pYzIrP0b",
        "outputId": "a02dd96b-3880-46b6-cfb2-980d44df1f2e"
      },
      "execution_count": 77,
      "outputs": [
        {
          "output_type": "display_data",
          "data": {
            "text/html": [
              "<html>\n",
              "<head><meta charset=\"utf-8\" /></head>\n",
              "<body>\n",
              "    <div>            <script src=\"https://cdnjs.cloudflare.com/ajax/libs/mathjax/2.7.5/MathJax.js?config=TeX-AMS-MML_SVG\"></script><script type=\"text/javascript\">if (window.MathJax && window.MathJax.Hub && window.MathJax.Hub.Config) {window.MathJax.Hub.Config({SVG: {font: \"STIX-Web\"}});}</script>                <script type=\"text/javascript\">window.PlotlyConfig = {MathJaxConfig: 'local'};</script>\n",
              "        <script charset=\"utf-8\" src=\"https://cdn.plot.ly/plotly-2.35.2.min.js\"></script>                <div id=\"36908964-17b2-4cb3-9580-951f8ff80323\" class=\"plotly-graph-div\" style=\"height:800px; width:800px;\"></div>            <script type=\"text/javascript\">                                    window.PLOTLYENV=window.PLOTLYENV || {};                                    if (document.getElementById(\"36908964-17b2-4cb3-9580-951f8ff80323\")) {                    Plotly.newPlot(                        \"36908964-17b2-4cb3-9580-951f8ff80323\",                        [{\"hovertemplate\":\"cohort=0 - 10\\u003cbr\\u003epercent=%{r}\\u003cbr\\u003edirection=%{theta}\\u003cextra\\u003e\\u003c\\u002fextra\\u003e\",\"legendgroup\":\"0 - 10\",\"marker\":{\"color\":\"#7a0402\",\"pattern\":{\"shape\":\"\"}},\"name\":\"0 - 10\",\"r\":[20.0,20.0,10.0,20.0,10.0,10.0,10.0],\"showlegend\":true,\"subplot\":\"polar\",\"theta\":[108,36,144,180,324,72,216],\"type\":\"barpolar\"},{\"hovertemplate\":\"cohort=0 - 20\\u003cbr\\u003epercent=%{r}\\u003cbr\\u003edirection=%{theta}\\u003cextra\\u003e\\u003c\\u002fextra\\u003e\",\"legendgroup\":\"0 - 20\",\"marker\":{\"color\":\"#b11901\",\"pattern\":{\"shape\":\"\"}},\"name\":\"0 - 20\",\"r\":[20.0,10.0,10.0,15.0,15.0,10.0,5.0,10.0,5.0],\"showlegend\":true,\"subplot\":\"polar\",\"theta\":[108,36,144,180,324,72,216,288,252],\"type\":\"barpolar\"},{\"hovertemplate\":\"cohort=0 - 30\\u003cbr\\u003epercent=%{r}\\u003cbr\\u003edirection=%{theta}\\u003cextra\\u003e\\u003c\\u002fextra\\u003e\",\"legendgroup\":\"0 - 30\",\"marker\":{\"color\":\"#d93806\",\"pattern\":{\"shape\":\"\"}},\"name\":\"0 - 30\",\"r\":[23.333333333333332,6.666666666666667,10.0,10.0,10.0,13.333333333333334,10.0,10.0,6.666666666666667],\"showlegend\":true,\"subplot\":\"polar\",\"theta\":[108,36,144,180,324,72,216,288,252],\"type\":\"barpolar\"},{\"hovertemplate\":\"cohort=0 - 40\\u003cbr\\u003epercent=%{r}\\u003cbr\\u003edirection=%{theta}\\u003cextra\\u003e\\u003c\\u002fextra\\u003e\",\"legendgroup\":\"0 - 40\",\"marker\":{\"color\":\"#f36315\",\"pattern\":{\"shape\":\"\"}},\"name\":\"0 - 40\",\"r\":[17.5,7.5,10.0,10.0,12.5,12.5,7.5,12.5,7.5,2.5],\"showlegend\":true,\"subplot\":\"polar\",\"theta\":[108,36,144,180,324,72,216,288,252,0],\"type\":\"barpolar\"},{\"hovertemplate\":\"cohort=0 - 50\\u003cbr\\u003epercent=%{r}\\u003cbr\\u003edirection=%{theta}\\u003cextra\\u003e\\u003c\\u002fextra\\u003e\",\"legendgroup\":\"0 - 50\",\"marker\":{\"color\":\"#fe9b2d\",\"pattern\":{\"shape\":\"\"}},\"name\":\"0 - 50\",\"r\":[18.0,10.0,8.0,10.0,16.0,10.0,8.0,10.0,8.0,2.0],\"showlegend\":true,\"subplot\":\"polar\",\"theta\":[108,36,144,180,324,72,216,288,252,0],\"type\":\"barpolar\"},{\"hovertemplate\":\"cohort=0 - 60\\u003cbr\\u003epercent=%{r}\\u003cbr\\u003edirection=%{theta}\\u003cextra\\u003e\\u003c\\u002fextra\\u003e\",\"legendgroup\":\"0 - 60\",\"marker\":{\"color\":\"#f3c63a\",\"pattern\":{\"shape\":\"\"}},\"name\":\"0 - 60\",\"r\":[15.0,8.333333333333334,10.0,10.0,16.666666666666668,10.0,6.666666666666667,10.0,8.333333333333334,5.0],\"showlegend\":true,\"subplot\":\"polar\",\"theta\":[108,36,144,180,324,72,216,288,252,0],\"type\":\"barpolar\"},{\"hovertemplate\":\"cohort=0 - 70\\u003cbr\\u003epercent=%{r}\\u003cbr\\u003edirection=%{theta}\\u003cextra\\u003e\\u003c\\u002fextra\\u003e\",\"legendgroup\":\"0 - 70\",\"marker\":{\"color\":\"#d1e834\",\"pattern\":{\"shape\":\"\"}},\"name\":\"0 - 70\",\"r\":[14.285714285714286,8.571428571428571,10.0,10.0,15.714285714285714,10.0,7.142857142857143,10.0,8.571428571428571,5.714285714285714],\"showlegend\":true,\"subplot\":\"polar\",\"theta\":[108,36,144,180,324,72,216,288,252,0],\"type\":\"barpolar\"},{\"hovertemplate\":\"cohort=0 - 80\\u003cbr\\u003epercent=%{r}\\u003cbr\\u003edirection=%{theta}\\u003cextra\\u003e\\u003c\\u002fextra\\u003e\",\"legendgroup\":\"0 - 80\",\"marker\":{\"color\":\"#a4fc3b\",\"pattern\":{\"shape\":\"\"}},\"name\":\"0 - 80\",\"r\":[12.5,7.5,10.0,8.75,15.0,11.25,8.75,11.25,7.5,7.5],\"showlegend\":true,\"subplot\":\"polar\",\"theta\":[108,36,144,180,324,72,216,288,252,0],\"type\":\"barpolar\"},{\"hovertemplate\":\"cohort=0 - 90\\u003cbr\\u003epercent=%{r}\\u003cbr\\u003edirection=%{theta}\\u003cextra\\u003e\\u003c\\u002fextra\\u003e\",\"legendgroup\":\"0 - 90\",\"marker\":{\"color\":\"#61fc6c\",\"pattern\":{\"shape\":\"\"}},\"name\":\"0 - 90\",\"r\":[12.222222222222221,6.666666666666667,10.0,7.777777777777778,14.444444444444445,12.222222222222221,8.88888888888889,13.333333333333334,6.666666666666667,7.777777777777778],\"showlegend\":true,\"subplot\":\"polar\",\"theta\":[108,36,144,180,324,72,216,288,252,0],\"type\":\"barpolar\"},{\"hovertemplate\":\"cohort=0 - 100\\u003cbr\\u003epercent=%{r}\\u003cbr\\u003edirection=%{theta}\\u003cextra\\u003e\\u003c\\u002fextra\\u003e\",\"legendgroup\":\"0 - 100\",\"marker\":{\"color\":\"#24eca6\",\"pattern\":{\"shape\":\"\"}},\"name\":\"0 - 100\",\"r\":[12.0,8.0,10.0,8.0,13.0,12.0,9.0,12.0,8.0,8.0],\"showlegend\":true,\"subplot\":\"polar\",\"theta\":[108,36,144,180,324,72,216,288,252,0],\"type\":\"barpolar\"},{\"hovertemplate\":\"cohort=0 - 1000\\u003cbr\\u003epercent=%{r}\\u003cbr\\u003edirection=%{theta}\\u003cextra\\u003e\\u003c\\u002fextra\\u003e\",\"legendgroup\":\"0 - 1000\",\"marker\":{\"color\":\"#1bcfd4\",\"pattern\":{\"shape\":\"\"}},\"name\":\"0 - 1000\",\"r\":[10.3,11.6,9.3,9.7,10.5,10.3,9.4,10.1,9.5,9.3],\"showlegend\":true,\"subplot\":\"polar\",\"theta\":[108,36,144,180,324,72,216,288,252,0],\"type\":\"barpolar\"},{\"hovertemplate\":\"cohort=0 - 10,000\\u003cbr\\u003epercent=%{r}\\u003cbr\\u003edirection=%{theta}\\u003cextra\\u003e\\u003c\\u002fextra\\u003e\",\"legendgroup\":\"0 - 10,000\",\"marker\":{\"color\":\"#39a2fc\",\"pattern\":{\"shape\":\"\"}},\"name\":\"0 - 10,000\",\"r\":[9.75,10.26,10.12,10.46,10.14,10.21,10.21,9.47,9.7,9.68],\"showlegend\":true,\"subplot\":\"polar\",\"theta\":[108,36,144,180,324,72,216,288,252,0],\"type\":\"barpolar\"},{\"hovertemplate\":\"cohort=0 - 100,000\\u003cbr\\u003epercent=%{r}\\u003cbr\\u003edirection=%{theta}\\u003cextra\\u003e\\u003c\\u002fextra\\u003e\",\"legendgroup\":\"0 - 100,000\",\"marker\":{\"color\":\"#4675ed\",\"pattern\":{\"shape\":\"\"}},\"name\":\"0 - 100,000\",\"r\":[10.026,10.137,9.971,10.026,9.902,9.908,10.028,9.978,10.025,9.999],\"showlegend\":true,\"subplot\":\"polar\",\"theta\":[108,36,144,180,324,72,216,288,252,0],\"type\":\"barpolar\"},{\"hovertemplate\":\"cohort=0 - 1,000,000\\u003cbr\\u003epercent=%{r}\\u003cbr\\u003edirection=%{theta}\\u003cextra\\u003e\\u003c\\u002fextra\\u003e\",\"legendgroup\":\"0 - 1,000,000\",\"marker\":{\"color\":\"#4145ab\",\"pattern\":{\"shape\":\"\"}},\"name\":\"0 - 1,000,000\",\"r\":[10.023,9.9757,10.023,10.0359,10.0106,10.0026,9.9548,9.9985,9.98,9.9959],\"showlegend\":true,\"subplot\":\"polar\",\"theta\":[108,36,144,180,324,72,216,288,252,0],\"type\":\"barpolar\"}],                        {\"template\":{\"data\":{\"barpolar\":[{\"marker\":{\"line\":{\"color\":\"rgb(17,17,17)\",\"width\":0.5},\"pattern\":{\"fillmode\":\"overlay\",\"size\":10,\"solidity\":0.2}},\"type\":\"barpolar\"}],\"bar\":[{\"error_x\":{\"color\":\"#f2f5fa\"},\"error_y\":{\"color\":\"#f2f5fa\"},\"marker\":{\"line\":{\"color\":\"rgb(17,17,17)\",\"width\":0.5},\"pattern\":{\"fillmode\":\"overlay\",\"size\":10,\"solidity\":0.2}},\"type\":\"bar\"}],\"carpet\":[{\"aaxis\":{\"endlinecolor\":\"#A2B1C6\",\"gridcolor\":\"#506784\",\"linecolor\":\"#506784\",\"minorgridcolor\":\"#506784\",\"startlinecolor\":\"#A2B1C6\"},\"baxis\":{\"endlinecolor\":\"#A2B1C6\",\"gridcolor\":\"#506784\",\"linecolor\":\"#506784\",\"minorgridcolor\":\"#506784\",\"startlinecolor\":\"#A2B1C6\"},\"type\":\"carpet\"}],\"choropleth\":[{\"colorbar\":{\"outlinewidth\":0,\"ticks\":\"\"},\"type\":\"choropleth\"}],\"contourcarpet\":[{\"colorbar\":{\"outlinewidth\":0,\"ticks\":\"\"},\"type\":\"contourcarpet\"}],\"contour\":[{\"colorbar\":{\"outlinewidth\":0,\"ticks\":\"\"},\"colorscale\":[[0.0,\"#0d0887\"],[0.1111111111111111,\"#46039f\"],[0.2222222222222222,\"#7201a8\"],[0.3333333333333333,\"#9c179e\"],[0.4444444444444444,\"#bd3786\"],[0.5555555555555556,\"#d8576b\"],[0.6666666666666666,\"#ed7953\"],[0.7777777777777778,\"#fb9f3a\"],[0.8888888888888888,\"#fdca26\"],[1.0,\"#f0f921\"]],\"type\":\"contour\"}],\"heatmapgl\":[{\"colorbar\":{\"outlinewidth\":0,\"ticks\":\"\"},\"colorscale\":[[0.0,\"#0d0887\"],[0.1111111111111111,\"#46039f\"],[0.2222222222222222,\"#7201a8\"],[0.3333333333333333,\"#9c179e\"],[0.4444444444444444,\"#bd3786\"],[0.5555555555555556,\"#d8576b\"],[0.6666666666666666,\"#ed7953\"],[0.7777777777777778,\"#fb9f3a\"],[0.8888888888888888,\"#fdca26\"],[1.0,\"#f0f921\"]],\"type\":\"heatmapgl\"}],\"heatmap\":[{\"colorbar\":{\"outlinewidth\":0,\"ticks\":\"\"},\"colorscale\":[[0.0,\"#0d0887\"],[0.1111111111111111,\"#46039f\"],[0.2222222222222222,\"#7201a8\"],[0.3333333333333333,\"#9c179e\"],[0.4444444444444444,\"#bd3786\"],[0.5555555555555556,\"#d8576b\"],[0.6666666666666666,\"#ed7953\"],[0.7777777777777778,\"#fb9f3a\"],[0.8888888888888888,\"#fdca26\"],[1.0,\"#f0f921\"]],\"type\":\"heatmap\"}],\"histogram2dcontour\":[{\"colorbar\":{\"outlinewidth\":0,\"ticks\":\"\"},\"colorscale\":[[0.0,\"#0d0887\"],[0.1111111111111111,\"#46039f\"],[0.2222222222222222,\"#7201a8\"],[0.3333333333333333,\"#9c179e\"],[0.4444444444444444,\"#bd3786\"],[0.5555555555555556,\"#d8576b\"],[0.6666666666666666,\"#ed7953\"],[0.7777777777777778,\"#fb9f3a\"],[0.8888888888888888,\"#fdca26\"],[1.0,\"#f0f921\"]],\"type\":\"histogram2dcontour\"}],\"histogram2d\":[{\"colorbar\":{\"outlinewidth\":0,\"ticks\":\"\"},\"colorscale\":[[0.0,\"#0d0887\"],[0.1111111111111111,\"#46039f\"],[0.2222222222222222,\"#7201a8\"],[0.3333333333333333,\"#9c179e\"],[0.4444444444444444,\"#bd3786\"],[0.5555555555555556,\"#d8576b\"],[0.6666666666666666,\"#ed7953\"],[0.7777777777777778,\"#fb9f3a\"],[0.8888888888888888,\"#fdca26\"],[1.0,\"#f0f921\"]],\"type\":\"histogram2d\"}],\"histogram\":[{\"marker\":{\"pattern\":{\"fillmode\":\"overlay\",\"size\":10,\"solidity\":0.2}},\"type\":\"histogram\"}],\"mesh3d\":[{\"colorbar\":{\"outlinewidth\":0,\"ticks\":\"\"},\"type\":\"mesh3d\"}],\"parcoords\":[{\"line\":{\"colorbar\":{\"outlinewidth\":0,\"ticks\":\"\"}},\"type\":\"parcoords\"}],\"pie\":[{\"automargin\":true,\"type\":\"pie\"}],\"scatter3d\":[{\"line\":{\"colorbar\":{\"outlinewidth\":0,\"ticks\":\"\"}},\"marker\":{\"colorbar\":{\"outlinewidth\":0,\"ticks\":\"\"}},\"type\":\"scatter3d\"}],\"scattercarpet\":[{\"marker\":{\"colorbar\":{\"outlinewidth\":0,\"ticks\":\"\"}},\"type\":\"scattercarpet\"}],\"scattergeo\":[{\"marker\":{\"colorbar\":{\"outlinewidth\":0,\"ticks\":\"\"}},\"type\":\"scattergeo\"}],\"scattergl\":[{\"marker\":{\"line\":{\"color\":\"#283442\"}},\"type\":\"scattergl\"}],\"scattermapbox\":[{\"marker\":{\"colorbar\":{\"outlinewidth\":0,\"ticks\":\"\"}},\"type\":\"scattermapbox\"}],\"scatterpolargl\":[{\"marker\":{\"colorbar\":{\"outlinewidth\":0,\"ticks\":\"\"}},\"type\":\"scatterpolargl\"}],\"scatterpolar\":[{\"marker\":{\"colorbar\":{\"outlinewidth\":0,\"ticks\":\"\"}},\"type\":\"scatterpolar\"}],\"scatter\":[{\"marker\":{\"line\":{\"color\":\"#283442\"}},\"type\":\"scatter\"}],\"scatterternary\":[{\"marker\":{\"colorbar\":{\"outlinewidth\":0,\"ticks\":\"\"}},\"type\":\"scatterternary\"}],\"surface\":[{\"colorbar\":{\"outlinewidth\":0,\"ticks\":\"\"},\"colorscale\":[[0.0,\"#0d0887\"],[0.1111111111111111,\"#46039f\"],[0.2222222222222222,\"#7201a8\"],[0.3333333333333333,\"#9c179e\"],[0.4444444444444444,\"#bd3786\"],[0.5555555555555556,\"#d8576b\"],[0.6666666666666666,\"#ed7953\"],[0.7777777777777778,\"#fb9f3a\"],[0.8888888888888888,\"#fdca26\"],[1.0,\"#f0f921\"]],\"type\":\"surface\"}],\"table\":[{\"cells\":{\"fill\":{\"color\":\"#506784\"},\"line\":{\"color\":\"rgb(17,17,17)\"}},\"header\":{\"fill\":{\"color\":\"#2a3f5f\"},\"line\":{\"color\":\"rgb(17,17,17)\"}},\"type\":\"table\"}]},\"layout\":{\"annotationdefaults\":{\"arrowcolor\":\"#f2f5fa\",\"arrowhead\":0,\"arrowwidth\":1},\"autotypenumbers\":\"strict\",\"coloraxis\":{\"colorbar\":{\"outlinewidth\":0,\"ticks\":\"\"}},\"colorscale\":{\"diverging\":[[0,\"#8e0152\"],[0.1,\"#c51b7d\"],[0.2,\"#de77ae\"],[0.3,\"#f1b6da\"],[0.4,\"#fde0ef\"],[0.5,\"#f7f7f7\"],[0.6,\"#e6f5d0\"],[0.7,\"#b8e186\"],[0.8,\"#7fbc41\"],[0.9,\"#4d9221\"],[1,\"#276419\"]],\"sequential\":[[0.0,\"#0d0887\"],[0.1111111111111111,\"#46039f\"],[0.2222222222222222,\"#7201a8\"],[0.3333333333333333,\"#9c179e\"],[0.4444444444444444,\"#bd3786\"],[0.5555555555555556,\"#d8576b\"],[0.6666666666666666,\"#ed7953\"],[0.7777777777777778,\"#fb9f3a\"],[0.8888888888888888,\"#fdca26\"],[1.0,\"#f0f921\"]],\"sequentialminus\":[[0.0,\"#0d0887\"],[0.1111111111111111,\"#46039f\"],[0.2222222222222222,\"#7201a8\"],[0.3333333333333333,\"#9c179e\"],[0.4444444444444444,\"#bd3786\"],[0.5555555555555556,\"#d8576b\"],[0.6666666666666666,\"#ed7953\"],[0.7777777777777778,\"#fb9f3a\"],[0.8888888888888888,\"#fdca26\"],[1.0,\"#f0f921\"]]},\"colorway\":[\"#636efa\",\"#EF553B\",\"#00cc96\",\"#ab63fa\",\"#FFA15A\",\"#19d3f3\",\"#FF6692\",\"#B6E880\",\"#FF97FF\",\"#FECB52\"],\"font\":{\"color\":\"#f2f5fa\"},\"geo\":{\"bgcolor\":\"rgb(17,17,17)\",\"lakecolor\":\"rgb(17,17,17)\",\"landcolor\":\"rgb(17,17,17)\",\"showlakes\":true,\"showland\":true,\"subunitcolor\":\"#506784\"},\"hoverlabel\":{\"align\":\"left\"},\"hovermode\":\"closest\",\"mapbox\":{\"style\":\"dark\"},\"paper_bgcolor\":\"rgb(17,17,17)\",\"plot_bgcolor\":\"rgb(17,17,17)\",\"polar\":{\"angularaxis\":{\"gridcolor\":\"#506784\",\"linecolor\":\"#506784\",\"ticks\":\"\"},\"bgcolor\":\"rgb(17,17,17)\",\"radialaxis\":{\"gridcolor\":\"#506784\",\"linecolor\":\"#506784\",\"ticks\":\"\"}},\"scene\":{\"xaxis\":{\"backgroundcolor\":\"rgb(17,17,17)\",\"gridcolor\":\"#506784\",\"gridwidth\":2,\"linecolor\":\"#506784\",\"showbackground\":true,\"ticks\":\"\",\"zerolinecolor\":\"#C8D4E3\"},\"yaxis\":{\"backgroundcolor\":\"rgb(17,17,17)\",\"gridcolor\":\"#506784\",\"gridwidth\":2,\"linecolor\":\"#506784\",\"showbackground\":true,\"ticks\":\"\",\"zerolinecolor\":\"#C8D4E3\"},\"zaxis\":{\"backgroundcolor\":\"rgb(17,17,17)\",\"gridcolor\":\"#506784\",\"gridwidth\":2,\"linecolor\":\"#506784\",\"showbackground\":true,\"ticks\":\"\",\"zerolinecolor\":\"#C8D4E3\"}},\"shapedefaults\":{\"line\":{\"color\":\"#f2f5fa\"}},\"sliderdefaults\":{\"bgcolor\":\"#C8D4E3\",\"bordercolor\":\"rgb(17,17,17)\",\"borderwidth\":1,\"tickwidth\":0},\"ternary\":{\"aaxis\":{\"gridcolor\":\"#506784\",\"linecolor\":\"#506784\",\"ticks\":\"\"},\"baxis\":{\"gridcolor\":\"#506784\",\"linecolor\":\"#506784\",\"ticks\":\"\"},\"bgcolor\":\"rgb(17,17,17)\",\"caxis\":{\"gridcolor\":\"#506784\",\"linecolor\":\"#506784\",\"ticks\":\"\"}},\"title\":{\"x\":0.05},\"updatemenudefaults\":{\"bgcolor\":\"#506784\",\"borderwidth\":0},\"xaxis\":{\"automargin\":true,\"gridcolor\":\"#283442\",\"linecolor\":\"#506784\",\"ticks\":\"\",\"title\":{\"standoff\":15},\"zerolinecolor\":\"#283442\",\"zerolinewidth\":2},\"yaxis\":{\"automargin\":true,\"gridcolor\":\"#283442\",\"linecolor\":\"#506784\",\"ticks\":\"\",\"title\":{\"standoff\":15},\"zerolinecolor\":\"#283442\",\"zerolinewidth\":2}}},\"polar\":{\"domain\":{\"x\":[0.0,1.0],\"y\":[0.0,1.0]},\"angularaxis\":{\"direction\":\"clockwise\",\"rotation\":90,\"tickmode\":\"array\",\"ticks\":\"outside\",\"tickvals\":[0,36,72,108,144,180,216,252,288,324],\"ticktext\":[\"0\",\"1\",\"2\",\"3\",\"4\",\"5\",\"6\",\"7\",\"8\",\"9\"]}},\"legend\":{\"title\":{\"text\":\"cohort\"},\"tracegroupgap\":0},\"title\":{\"text\":\"Percent of distribution for each digit in each cohort of first million places of Π\"},\"barmode\":\"relative\",\"height\":800,\"width\":800},                        {\"responsive\": true}                    ).then(function(){\n",
              "                            \n",
              "var gd = document.getElementById('36908964-17b2-4cb3-9580-951f8ff80323');\n",
              "var x = new MutationObserver(function (mutations, observer) {{\n",
              "        var display = window.getComputedStyle(gd).display;\n",
              "        if (!display || display === 'none') {{\n",
              "            console.log([gd, 'removed!']);\n",
              "            Plotly.purge(gd);\n",
              "            observer.disconnect();\n",
              "        }}\n",
              "}});\n",
              "\n",
              "// Listen for the removal of the full notebook cells\n",
              "var notebookContainer = gd.closest('#notebook-container');\n",
              "if (notebookContainer) {{\n",
              "    x.observe(notebookContainer, {childList: true});\n",
              "}}\n",
              "\n",
              "// Listen for the clearing of the current output cell\n",
              "var outputEl = gd.closest('.output');\n",
              "if (outputEl) {{\n",
              "    x.observe(outputEl, {childList: true});\n",
              "}}\n",
              "\n",
              "                        })                };                            </script>        </div>\n",
              "</body>\n",
              "</html>"
            ]
          },
          "metadata": {}
        }
      ]
    }
  ]
}